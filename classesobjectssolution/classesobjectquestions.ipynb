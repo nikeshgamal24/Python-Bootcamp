{
 "cells": [
  {
   "cell_type": "markdown",
   "id": "ef886026",
   "metadata": {},
   "source": [
    "# Module: Classes and Objects Assignments\n",
    "## Lesson: Creating and Working with Classes and Objects\n",
    "### Assignment 1: Basic Class and Object Creation\n",
    "\n",
    "Create a class named `Car` with attributes `make`, `model`, and `year`. Create an object of the class and print its attributes.\n",
    "\n",
    "### Assignment 2: Methods in Class\n",
    "\n",
    "Add a method named `start_engine` to the `Car` class that prints a message when the engine starts. Create an object of the class and call the method.\n",
    "\n",
    "### Assignment 3: Class with Constructor\n",
    "\n",
    "Create a class named `Student` with attributes `name` and `age`. Use a constructor to initialize these attributes. Create an object of the class and print its attributes.\n",
    "\n",
    "### Assignment 4: Class with Private Attributes\n",
    "\n",
    "Create a class named `BankAccount` with private attributes `account_number` and `balance`. Add methods to deposit and withdraw money, and to check the balance. Create an object of the class and perform some operations.\n",
    "\n",
    "### Assignment 5: Class Inheritance\n",
    "\n",
    "Create a base class named `Person` with attributes `name` and `age`. Create a derived class named `Employee` that inherits from `Person` and adds an attribute `employee_id`. Create an object of the derived class and print its attributes.\n",
    "\n",
    "### Assignment 6: Method Overriding\n",
    "\n",
    "In the `Employee` class, override the `__str__` method to return a string representation of the object. Create an object of the class and print it.\n",
    "\n",
    "### Assignment 7: Class Composition\n",
    "\n",
    "Create a class named `Address` with attributes `street`, `city`, and `zipcode`. Create a class named `Person` that has an `Address` object as an attribute. Create an object of the `Person` class and print its address.\n",
    "\n",
    "### Assignment 8: Class with Class Variables\n",
    "\n",
    "Create a class named `Counter` with a class variable `count`. Each time an object is created, increment the count. Add a method to get the current count. Create multiple objects and print the count.\n",
    "\n",
    "### Assignment 9: Static Methods\n",
    "\n",
    "Create a class named `MathOperations` with a static method to calculate the square root of a number. Call the static method without creating an object.\n",
    "\n",
    "### Assignment 10: Class with Properties\n",
    "\n",
    "Create a class named `Rectangle` with private attributes `length` and `width`. Use properties to get and set these attributes. Create an object of the class and test the properties.\n",
    "\n",
    "### Assignment 11: Abstract Base Class\n",
    "\n",
    "Create an abstract base class named `Shape` with an abstract method `area`. Create derived classes `Circle` and `Square` that implement the `area` method. Create objects of the derived classes and call the `area` method.\n",
    "\n",
    "### Assignment 12: Operator Overloading\n",
    "\n",
    "Create a class named `Vector` with attributes `x` and `y`. Overload the `+` operator to add two `Vector` objects. Create objects of the class and test the operator overloading.\n",
    "\n",
    "### Assignment 13: Class with Custom Exception\n",
    "\n",
    "Create a custom exception named `InsufficientBalanceError`. In the `BankAccount` class, raise this exception when a withdrawal amount is greater than the balance. Handle the exception and print an appropriate message.\n",
    "\n",
    "### Assignment 14: Class with Context Manager\n",
    "\n",
    "Create a class named `FileManager` that implements the context manager protocol to open and close a file. Use this class to read the contents of a file.\n",
    "\n",
    "### Assignment 15: Chaining Methods\n",
    "\n",
    "Create a class named `Calculator` with methods to add, subtract, multiply, and divide. Each method should return the object itself to allow method chaining. Create an object and chain multiple method calls."
   ]
  },
  {
   "cell_type": "code",
   "execution_count": 9,
   "id": "a2759a73",
   "metadata": {},
   "outputs": [
    {
     "name": "stdout",
     "output_type": "stream",
     "text": [
      "Maruti\n",
      "2011\n",
      "2011\n"
     ]
    }
   ],
   "source": [
    "# Assignment 1: Basic Class and Object Creation\n",
    "\n",
    "# Create a class named Car with attributes make, model, and year. Create an object of the class and print its attributes.\n",
    "class Car:\n",
    "    def __init__(self, make, model, year):\n",
    "        self.make = make\n",
    "        self.model = model\n",
    "        self.year = year\n",
    "\n",
    "car = Car('Maruti',2011,2011)\n",
    "print(car.make)\n",
    "print(car.model)\n",
    "print(car.year)\n"
   ]
  },
  {
   "cell_type": "code",
   "execution_count": 11,
   "id": "8f5de0c8-1977-445b-859c-ecfd0d4c69b1",
   "metadata": {},
   "outputs": [
    {
     "name": "stdout",
     "output_type": "stream",
     "text": [
      "The engine has started\n"
     ]
    }
   ],
   "source": [
    "# Assignment 2: Methods in Class\n",
    "\n",
    "# Add a method named start_engine to the Car class that prints a message when the engine starts.\n",
    "# Create an object of the class and call the method.\n",
    "class Car:\n",
    "    def __init__(self, make, model, year):\n",
    "        self.make = make\n",
    "        self.model = model\n",
    "        self.year = year\n",
    "        \n",
    "    def start_engine(self):\n",
    "        print(\"The engine has started\")\n",
    "\n",
    "car = Car('Maruti',2011,2011)\n",
    "car.start_engine()"
   ]
  },
  {
   "cell_type": "code",
   "execution_count": 19,
   "id": "e611854c-6159-4ce4-a2f1-4f176b6de16c",
   "metadata": {},
   "outputs": [
    {
     "name": "stdout",
     "output_type": "stream",
     "text": [
      "Nikesh 24\n"
     ]
    }
   ],
   "source": [
    "# Assignment 3: Class with Constructor\n",
    "\n",
    "# Create a class named Student with attributes name and age. Use a constructor to initialize these attributes. \n",
    "# Create an object of the class and print its attributes.\n",
    "class Student:\n",
    "    def __init__(self, name, age):\n",
    "        self.name = name\n",
    "        self.age = age\n",
    "\n",
    "student = Student(\"Nikesh\",24)\n",
    "print(student.name, student.age)"
   ]
  },
  {
   "cell_type": "code",
   "execution_count": 35,
   "id": "411125ab-9e40-4388-be53-03fe4acff440",
   "metadata": {},
   "outputs": [
    {
     "name": "stdout",
     "output_type": "stream",
     "text": [
      "250 has been deposited to the account\n",
      "1500 has been withdrawn from the account\n",
      "Your Current balance is: 2150\n"
     ]
    }
   ],
   "source": [
    "# Assignment 4: Class with Private Attributes\n",
    "\n",
    "# Create a class named BankAccount with private attributes account_number and balance. \n",
    "# Add methods to deposit and withdraw money, and to check the balance. Create an object of the class and perform some operations.\n",
    "class BankAccount:\n",
    "    def __init__(self,account_number, balance):\n",
    "        self.account_number = account_number\n",
    "        self.balance  = balance\n",
    "        \n",
    "    def deposit_amount(self,amount):\n",
    "        self.balance += amount\n",
    "        print(f'{amount} has been deposited to the account')\n",
    "        \n",
    "    def withdraw_amount(self,amount):\n",
    "        self.balance -= amount\n",
    "        print(f'{amount} has been withdrawn from the account')\n",
    "        \n",
    "    def check_balance(self):\n",
    "        print(f\"Your Current balance is: {self.balance}\")\n",
    "\n",
    "\n",
    "account = BankAccount(12345,3400)\n",
    "account.deposit_amount(250)\n",
    "account.withdraw_amount(1500)\n",
    "account.check_balance()"
   ]
  },
  {
   "cell_type": "code",
   "execution_count": 45,
   "id": "ff43a40f-61a3-402f-a90b-1064bc41c03e",
   "metadata": {},
   "outputs": [
    {
     "name": "stdout",
     "output_type": "stream",
     "text": [
      "Nikesh 24 123\n"
     ]
    }
   ],
   "source": [
    "# Assignment 5: Class Inheritance\n",
    "\n",
    "# Create a base class named Person with attributes name and age. \n",
    "# Create a derived class named Employee that inherits from Person and adds an attribute employee_id. \n",
    "# Create an object of the derived class and print its attributes.\n",
    "\n",
    "# Base Class\n",
    "class Person:\n",
    "    def __init__(self,name,age):\n",
    "        self.name = name\n",
    "        self.age = age\n",
    "\n",
    "# Derived Class\n",
    "class Employee(Person):\n",
    "    def __init__(self,name,age,employee_id):\n",
    "        super().__init__(name,age)\n",
    "        self.employee_id = employee_id\n",
    "\n",
    "employee = Employee(\"Nikesh\",24,123)\n",
    "print(employee.name, employee.age, employee.employee_id)"
   ]
  },
  {
   "cell_type": "code",
   "execution_count": 56,
   "id": "8a82eff8-ecab-4752-904b-a26e95760449",
   "metadata": {},
   "outputs": [
    {
     "name": "stdout",
     "output_type": "stream",
     "text": [
      "Employee(Name: Alice, Age: 30, Employee ID: E123)\n"
     ]
    }
   ],
   "source": [
    "# Assignment 6: Method Overriding\n",
    "\n",
    "# In the Employee class, override the __str__ method to return a string representation of the object.\n",
    "# Create an object of the class and print it.\n",
    "\n",
    "class Employee(Person):\n",
    "    def __init__(self, name, age, employee_id):\n",
    "        super().__init__(name, age)\n",
    "        self.employee_id = employee_id\n",
    "\n",
    "    def __str__(self):\n",
    "        return f\"Employee(Name: {self.name}, Age: {self.age}, Employee ID: {self.employee_id})\"\n",
    "\n",
    "# Test\n",
    "employee = Employee('Alice', 30, 'E123')\n",
    "print(employee)\n"
   ]
  },
  {
   "cell_type": "code",
   "execution_count": 58,
   "id": "1a7dcc3e-a4c0-4f71-8afc-aa9874bc66a8",
   "metadata": {},
   "outputs": [
    {
     "name": "stdout",
     "output_type": "stream",
     "text": [
      "123 Main St New York 10001\n"
     ]
    }
   ],
   "source": [
    "# Assignment 7: Class Composition\n",
    "\n",
    "# Create a class named Address with attributes street, city, and zipcode. \n",
    "# Create a class named Person that has an Address object as an attribute. Create an object of the Person class and print its address.\n",
    "class Address:\n",
    "    def __init__(self,street,city,zipcode):\n",
    "        self.street = street\n",
    "        self.city = city\n",
    "        self.zipcode = zipcode\n",
    "\n",
    "class Person:\n",
    "    def __init__(self,name,age, address):\n",
    "        self.name = name\n",
    "        self.age = age\n",
    "        self.address = address\n",
    "\n",
    "address = Address('123 Main St', 'New York', '10001')\n",
    "person = Person('John', 25, address)\n",
    "print(person.address.street, person.address.city, person.address.zipcode)"
   ]
  },
  {
   "cell_type": "code",
   "execution_count": 64,
   "id": "ed13cf6b-724e-4678-8c1d-42fea649c701",
   "metadata": {},
   "outputs": [
    {
     "name": "stdout",
     "output_type": "stream",
     "text": [
      "The Current Count is 3\n"
     ]
    }
   ],
   "source": [
    "# Assignment 8: Class with Class Variables\n",
    "\n",
    "# Create a class named Counter with a class variable count. Each time an object is created, increment the count. \n",
    "# Add a method to get the current count. Create multiple objects and print the count.\n",
    "class Counter:\n",
    "    count = 0 # this is the class variable \n",
    "\n",
    "    def __init__(self):\n",
    "        Counter.count += 1\n",
    "\n",
    "    def current_count(self):\n",
    "        print(f'The Current Count is {Counter.count}')\n",
    "\n",
    "c1 = Counter()\n",
    "c2 = Counter()\n",
    "c3 = Counter()\n",
    "c3.current_count()"
   ]
  },
  {
   "cell_type": "code",
   "execution_count": 66,
   "id": "f445430b-e433-4e88-a846-5351e1b2c67d",
   "metadata": {},
   "outputs": [
    {
     "name": "stdout",
     "output_type": "stream",
     "text": [
      "4.0\n"
     ]
    }
   ],
   "source": [
    "# Assignment 9: Static Methods\n",
    "\n",
    "# Create a class named MathOperations with a static method to calculate the square root of a number. \n",
    "# Call the static method without creating an object.\n",
    "import math\n",
    "\n",
    "class MathOperations:\n",
    "    @staticmethod\n",
    "    def sqrt(x):\n",
    "        return math.sqrt(x)\n",
    "\n",
    "print(MathOperations.sqrt(16))  # 4.0     "
   ]
  },
  {
   "cell_type": "code",
   "execution_count": 68,
   "id": "2511a44a-ca6d-46d8-9ab3-7d0d52dc4e3e",
   "metadata": {},
   "outputs": [
    {
     "name": "stdout",
     "output_type": "stream",
     "text": [
      "10 5\n",
      "15 7\n"
     ]
    }
   ],
   "source": [
    "# Assignment 10: Class with Properties\n",
    "\n",
    "# Create a class named Rectangle with private attributes length and width. \n",
    "# Use properties to get and set these attributes. Create an object of the class and test the properties.\n",
    "class Rectangle:\n",
    "    def __init__(self,length,width):\n",
    "        self.__length = length     # __length for private attributes\n",
    "        self.__width = width       # __width for private attributes\n",
    "\n",
    "    @property #decorator --> for private attribites to get and set the value[ensuring encapsulation,]\n",
    "    def length(self):\n",
    "        return self.__length\n",
    "\n",
    "    @length.setter\n",
    "    def length(self, length):\n",
    "        self.__length = length\n",
    "\n",
    "    @property\n",
    "    def width(self):\n",
    "        return self.__width\n",
    "\n",
    "    @width.setter\n",
    "    def width(self, width):\n",
    "        self.__width = width\n",
    "\n",
    "\n",
    "rect = Rectangle(10, 5)\n",
    "print(rect.length, rect.width)  # 10 5\n",
    "rect.length = 15\n",
    "rect.width = 7\n",
    "print(rect.length, rect.width)  # 15 7"
   ]
  },
  {
   "cell_type": "code",
   "execution_count": 5,
   "id": "1be21770-8db2-4744-af81-f3e2bb7bee52",
   "metadata": {},
   "outputs": [
    {
     "name": "stdout",
     "output_type": "stream",
     "text": [
      "1385.4423602330987\n",
      "16\n"
     ]
    }
   ],
   "source": [
    "# Assignment 11: Abstract Base Class\n",
    "\n",
    "# Create an abstract base class named Shape with an abstract method area. \n",
    "# Create derived classes Circle and Square that implement the area method.\n",
    "# Create objects of the derived classes and call the area method.\n",
    "from abc import ABC, abstractmethod\n",
    "import math\n",
    "\n",
    "class Shape(ABC):\n",
    "    @abstractmethod\n",
    "    def area(self):\n",
    "        pass\n",
    "\n",
    "class Circle(Shape):\n",
    "    def __init__(self,radius):\n",
    "        self.radius = radius\n",
    "\n",
    "    def area(self):\n",
    "        return math.pi*(self.radius**2)\n",
    "\n",
    "class Square(Shape):\n",
    "    def __init__(self,length):\n",
    "        self.length = length\n",
    "\n",
    "    def area(self):\n",
    "        return self.length**2\n",
    "\n",
    "circle = Circle(21)\n",
    "print(circle.area())\n",
    "\n",
    "square = Square(4)\n",
    "print(square.area())"
   ]
  },
  {
   "cell_type": "code",
   "execution_count": 7,
   "id": "efdc452b-02b5-47c4-b396-2c942eb3d173",
   "metadata": {},
   "outputs": [
    {
     "name": "stdout",
     "output_type": "stream",
     "text": [
      "Vector(6, 8)\n"
     ]
    }
   ],
   "source": [
    "# Assignment 12: Operator Overloading\n",
    "\n",
    "# Create a class named Vector with attributes x and y. Overload the + operator to add two Vector objects. \n",
    "# Create objects of the class and test the operator overloading.\n",
    "class Vector:\n",
    "    def __init__(self, x, y):\n",
    "        self.x = x\n",
    "        self.y = y\n",
    "\n",
    "    def __add__(self, other):\n",
    "        return Vector(self.x + other.x, self.y + other.y)\n",
    "\n",
    "    def __str__(self):\n",
    "        return f\"Vector({self.x}, {self.y})\"\n",
    "\n",
    "# Test\n",
    "v1 = Vector(2, 3)\n",
    "v2 = Vector(4, 5)\n",
    "v3 = v1 + v2\n",
    "print(v3)  # Vector(6, 8)\n",
    "        "
   ]
  },
  {
   "cell_type": "code",
   "execution_count": 9,
   "id": "616361f5-07de-4d87-96e4-c21cbb077a72",
   "metadata": {},
   "outputs": [
    {
     "name": "stdout",
     "output_type": "stream",
     "text": [
      "Error: Insufficient balance!\n"
     ]
    }
   ],
   "source": [
    "# Assignment 13: Class with Custom Exception\n",
    "\n",
    "# Create a custom exception named InsufficientBalanceError. \n",
    "# In the BankAccount class, raise this exception when a withdrawal amount is greater than the balance. \n",
    "# Handle the exception and print an appropriate message.\n",
    "class InsufficientBalanceError(Exception):  #Custom Exception Class\n",
    "    pass\n",
    "\n",
    "class BankAccount:\n",
    "    def __init__(self, account_number, balance=0):\n",
    "        self.__account_number = account_number\n",
    "        self.__balance = balance\n",
    "\n",
    "    def deposit(self, amount):\n",
    "        self.__balance += amount\n",
    "\n",
    "    def withdraw(self, amount):\n",
    "        if amount > self.__balance:\n",
    "            raise InsufficientBalanceError(\"Insufficient balance!\")\n",
    "        else:\n",
    "            self.__balance -= amount\n",
    "\n",
    "    def check_balance(self):\n",
    "        return self.__balance\n",
    "\n",
    "\n",
    "account = BankAccount('12345678', 1000)\n",
    "account.deposit(500)\n",
    "try:\n",
    "    account.withdraw(2000)\n",
    "except InsufficientBalanceError as e:\n",
    "    print(f\"Error: {e}\")\n"
   ]
  },
  {
   "cell_type": "code",
   "execution_count": null,
   "id": "2d6cafcf-4239-4338-8e69-44d732c0c4ff",
   "metadata": {},
   "outputs": [],
   "source": []
  },
  {
   "cell_type": "code",
   "execution_count": null,
   "id": "3d761e16-ddc1-40ab-98b0-e1798eee9ce8",
   "metadata": {},
   "outputs": [],
   "source": []
  }
 ],
 "metadata": {
  "kernelspec": {
   "display_name": "Python [conda env:base] *",
   "language": "python",
   "name": "conda-base-py"
  },
  "language_info": {
   "codemirror_mode": {
    "name": "ipython",
    "version": 3
   },
   "file_extension": ".py",
   "mimetype": "text/x-python",
   "name": "python",
   "nbconvert_exporter": "python",
   "pygments_lexer": "ipython3",
   "version": "3.12.2"
  }
 },
 "nbformat": 4,
 "nbformat_minor": 5
}
