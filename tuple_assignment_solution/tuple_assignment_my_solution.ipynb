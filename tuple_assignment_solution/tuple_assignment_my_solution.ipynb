{
 "cells": [
  {
   "cell_type": "markdown",
   "id": "6cade624",
   "metadata": {},
   "source": [
    "# Module 3: Data Structures Assignments\n",
    "## Lesson 3.2: Tuples\n",
    "### Assignment 1: Creating and Accessing Tuples\n",
    "\n",
    "Create a tuple with the first 10 positive integers. Print the tuple.\n",
    "\n",
    "### Assignment 2: Accessing Tuple Elements\n",
    "\n",
    "Print the first, middle, and last elements of the tuple created in Assignment 1.\n",
    "\n",
    "### Assignment 3: Tuple Slicing\n",
    "\n",
    "Print the first three elements, the last three elements, and the elements from index 2 to 5 of the tuple created in Assignment 1.\n",
    "\n",
    "### Assignment 4: Nested Tuples\n",
    "\n",
    "Create a nested tuple representing a 3x3 matrix and print the matrix. Access and print the element at the second row and third column.\n",
    "\n",
    "### Assignment 5: Tuple Concatenation\n",
    "\n",
    "Concatenate two tuples: (1, 2, 3) and (4, 5, 6). Print the resulting tuple.\n",
    "\n",
    "### Assignment 6: Tuple Methods\n",
    "\n",
    "Create a tuple with duplicate elements and count the occurrences of an element. Find the index of the first occurrence of an element in the tuple.\n",
    "\n",
    "### Assignment 7: Unpacking Tuples\n",
    "\n",
    "Create a tuple with 5 elements and unpack it into 5 variables. Print the variables.\n",
    "\n",
    "### Assignment 8: Tuple Conversion\n",
    "\n",
    "Convert a list of the first 5 positive integers to a tuple. Print the tuple.\n",
    "\n",
    "### Assignment 9: Tuple of Tuples\n",
    "\n",
    "Create a tuple containing 3 tuples, each with 3 elements. Print the tuple of tuples.\n",
    "\n",
    "### Assignment 10: Tuple and List\n",
    "\n",
    "Create a tuple with the first 5 positive integers. Convert it to a list, append the number 6, and convert it back to a tuple. Print the resulting tuple.\n",
    "\n",
    "### Assignment 11: Tuple and String\n",
    "\n",
    "Create a tuple with the characters of a string. Join the tuple elements into a single string. Print the string.\n",
    "\n",
    "### Assignment 12: Tuple and Dictionary\n",
    "\n",
    "Create a dictionary with tuple keys and integer values. Print the dictionary.\n",
    "\n",
    "### Assignment 13: Nested Tuple Iteration\n",
    "\n",
    "Create a nested tuple and iterate over the elements, printing each element.\n",
    "\n",
    "### Assignment 14: Tuple and Set\n",
    "\n",
    "Create a tuple with duplicate elements. Convert it to a set to remove duplicates and print the resulting set.\n",
    "\n",
    "### Assignment 15: Tuple Functions\n",
    "\n",
    "Write functions that take a tuple and return the minimum, maximum, and sum of the elements. Print the results for a sample tuple."
   ]
  },
  {
   "cell_type": "code",
   "execution_count": 8,
   "id": "bd750f0f",
   "metadata": {},
   "outputs": [
    {
     "name": "stdout",
     "output_type": "stream",
     "text": [
      "(1, 2, 3, 4, 5, 6, 7, 8, 9, 10)\n"
     ]
    }
   ],
   "source": [
    "# Assignment 1: Creating and Accessing Tuples\n",
    "\n",
    "# Create a tuple with the first 10 positive integers. Print the tuple.\n",
    "positive_integer_tuple = tuple(range(1,11))\n",
    "print(positive_integer_tuple)"
   ]
  },
  {
   "cell_type": "code",
   "execution_count": 16,
   "id": "19fe3183-ce30-4c4c-8d88-951dfb775c50",
   "metadata": {},
   "outputs": [
    {
     "name": "stdout",
     "output_type": "stream",
     "text": [
      "1\n",
      "10\n",
      "5\n"
     ]
    }
   ],
   "source": [
    "# Assignment 2: Accessing Tuple Elements\n",
    "\n",
    "# Print the first, middle, and last elements of the tuple created in Assignment 1.\n",
    "print(positive_integer_tuple[0])\n",
    "print(positive_integer_tuple[-1])\n",
    "print(positive_integer_tuple[4])"
   ]
  },
  {
   "cell_type": "code",
   "execution_count": 26,
   "id": "b943b977-6544-4e86-a57f-0842f945945d",
   "metadata": {},
   "outputs": [
    {
     "name": "stdout",
     "output_type": "stream",
     "text": [
      "(1, 2, 3)\n",
      "(3, 4, 5)\n",
      "(10, 9, 8)\n"
     ]
    }
   ],
   "source": [
    "# Assignment 3: Tuple Slicing\n",
    "\n",
    "# Print the first three elements, the last three elements, and the elements from index 2 to 5 of the tuple created in Assignment 1.\n",
    "print(positive_integer_tuple[0:3])\n",
    "print(positive_integer_tuple[2:5])\n",
    "print(positive_integer_tuple[10:6:-1])\n"
   ]
  },
  {
   "cell_type": "code",
   "execution_count": 32,
   "id": "4370cd5b-1d1f-40fc-96b7-9f5789355347",
   "metadata": {},
   "outputs": [
    {
     "name": "stdout",
     "output_type": "stream",
     "text": [
      "Matrix: \n",
      "(1, 2, 3)\n",
      "(4, 5, 6)\n",
      "(7, 8, 9)\n",
      "Accessing the second row and third column: 6\n"
     ]
    }
   ],
   "source": [
    "# Assignment 4: Nested Tuples\n",
    "\n",
    "# Create a nested tuple representing a 3x3 matrix and print the matrix.\n",
    "# Access and print the element at the second row and third column.\n",
    "\n",
    "matrix_tuple = (\n",
    "    (1,2,3),\n",
    "    (4,5,6),\n",
    "    (7,8,9)\n",
    ")\n",
    "\n",
    "print('Matrix: ')\n",
    "for row in matrix_tuple:\n",
    "    print(row)\n",
    "\n",
    "print(f'Accessing the second row and third column: {matrix_tuple[1][2]}')"
   ]
  },
  {
   "cell_type": "code",
   "execution_count": 36,
   "id": "28c65242-0c9e-43dc-bb3a-d640151ceef3",
   "metadata": {},
   "outputs": [
    {
     "name": "stdout",
     "output_type": "stream",
     "text": [
      "(1, 2, 3, 4, 5, 6)\n"
     ]
    }
   ],
   "source": [
    "# Assignment 5: Tuple Concatenation\n",
    "\n",
    "# Concatenate two tuples: (1, 2, 3) and (4, 5, 6). Print the resulting tuple.\n",
    "tuple1 = (1,2,3)\n",
    "tuple2 = (4,5,6)\n",
    "\n",
    "tuple_concatenation = tuple1 + tuple2\n",
    "print(tuple_concatenation)"
   ]
  },
  {
   "cell_type": "code",
   "execution_count": 40,
   "id": "9a856852-9569-4025-b42f-2d92ad3307fd",
   "metadata": {},
   "outputs": [
    {
     "name": "stdout",
     "output_type": "stream",
     "text": [
      "Occurrence of 4: 2\n",
      "Index of the first occurrence of element 4: 3\n"
     ]
    }
   ],
   "source": [
    "# Assignment 6: Tuple Methods\n",
    "\n",
    "# Create a tuple with duplicate elements and count the occurrences of an element.\n",
    "# Find the index of the first occurrence of an element in the tuple.\n",
    "\n",
    "tuple1 = (1,2,3,4,3,4,3,2,3)\n",
    "print(f'Occurrence of 4: {tuple1.count(4)}')\n",
    "print(f'Index of the first occurrence of element 4: {tuple1.index(4)}')"
   ]
  },
  {
   "cell_type": "code",
   "execution_count": 52,
   "id": "80b3677c-e9c6-463d-b1e7-f641430332ab",
   "metadata": {},
   "outputs": [
    {
     "name": "stdout",
     "output_type": "stream",
     "text": [
      "Name: Nikesh\n",
      "Age: 24\n",
      "Grade: A\n",
      "City: Pokhara\n",
      "Country: Nepal\n"
     ]
    }
   ],
   "source": [
    "# Assignment 7: Unpacking Tuples\n",
    "\n",
    "# Create a tuple with 5 elements and unpack it into 5 variables. Print the variables.\n",
    "tuple1 = ('Nikesh','24','A','Pokhara','Nepal')\n",
    "name, age, grade, city, country = tuple1\n",
    "print(f'Name: {name}')\n",
    "print(f'Age: {age}')\n",
    "print(f'Grade: {grade}')\n",
    "print(f'City: {city}')\n",
    "print(f'Country: {country}')"
   ]
  },
  {
   "cell_type": "code",
   "execution_count": 56,
   "id": "cf5b80ef-cd00-4c49-8ae9-b588636969d7",
   "metadata": {},
   "outputs": [
    {
     "name": "stdout",
     "output_type": "stream",
     "text": [
      "[1, 2, 3, 4, 5]\n",
      "(1, 2, 3, 4, 5)\n"
     ]
    }
   ],
   "source": [
    "# Assignment 8: Tuple Conversion\n",
    "\n",
    "# Convert a list of the first 5 positive integers to a tuple. Print the tuple.\n",
    "positive_integer_list = list(range(1,6))\n",
    "print(positive_integer_list)\n",
    "\n",
    "positive_integer_tuple = tuple(positive_integer_list)\n",
    "print(positive_integer_tuple)"
   ]
  },
  {
   "cell_type": "code",
   "execution_count": 58,
   "id": "aa3cd9ca-9e47-489c-9524-8b777d61fc40",
   "metadata": {},
   "outputs": [
    {
     "name": "stdout",
     "output_type": "stream",
     "text": [
      "((1, 2, 3), (4, 5, 6), (3, 6, 4))\n"
     ]
    }
   ],
   "source": [
    "# Assignment 9: Tuple of Tuples\n",
    "\n",
    "# Create a tuple containing 3 tuples, each with 3 elements. Print the tuple of tuples.\n",
    "nested_tupl1 = ((1,2,3),(4,5,6),(3,6,4))\n",
    "print(nested_tupl1)"
   ]
  },
  {
   "cell_type": "code",
   "execution_count": 83,
   "id": "8aa1759a-13da-4687-bf09-454243bca4c5",
   "metadata": {},
   "outputs": [
    {
     "name": "stdout",
     "output_type": "stream",
     "text": [
      "(1, 2, 3, 4, 5)\n",
      "[1, 2, 3, 4, 5]\n",
      "[1, 2, 3, 4, 5, 6]\n",
      "(1, 2, 3, 4, 5, 6)\n"
     ]
    }
   ],
   "source": [
    "# Assignment 10: Tuple and List\n",
    "\n",
    "# Create a tuple with the first 5 positive integers.\n",
    "# Convert it to a list, append the number 6, and convert it back to a tuple. Print the resulting tuple.\n",
    "tuple1 = tuple(range(1,6))\n",
    "print(tuple1)\n",
    "list_integer = list(tuple1)\n",
    "print(list_integer)\n",
    "\n",
    "list_integer.append(6)\n",
    "print(list_integer)\n",
    "\n",
    "final_tuple = tuple(list_integer)\n",
    "print(final_tuple)"
   ]
  },
  {
   "cell_type": "code",
   "execution_count": 87,
   "id": "342615d9-7710-4dc9-8ae6-a80f69028fa5",
   "metadata": {},
   "outputs": [
    {
     "name": "stdout",
     "output_type": "stream",
     "text": [
      "('N', 'i', 'k', 'e', 's', 'h')\n",
      "Nikesh\n"
     ]
    }
   ],
   "source": [
    "# Assignment 11: Tuple and String\n",
    "\n",
    "# Create a tuple with the characters of a string. Join the tuple elements into a single string. Print the string.\n",
    "string = \"Nikesh\"\n",
    "tuple_string = tuple(string)\n",
    "print(tuple_string)\n",
    "\n",
    "tuple_join = ''.join(tuple_string)\n",
    "print(tuple_join)"
   ]
  },
  {
   "cell_type": "code",
   "execution_count": 95,
   "id": "b7d28e5e-d08d-4e1c-845b-de28acb34884",
   "metadata": {},
   "outputs": [
    {
     "name": "stdout",
     "output_type": "stream",
     "text": [
      "{(1, 2): 2, (4, 3): 4, (6, 7): 4}\n"
     ]
    }
   ],
   "source": [
    "# Assignment 12: Tuple and Dictionary\n",
    "\n",
    "# Create a dictionary with tuple keys and integer values. Print the dictionary.\n",
    "dict_var = {\n",
    "    (1,2):2,\n",
    "    (4,3):4,\n",
    "    (6,7):4\n",
    "}\n",
    "print(dict_var)"
   ]
  },
  {
   "cell_type": "code",
   "execution_count": 97,
   "id": "a43a483c-493e-4acc-a440-f56b54afe5f7",
   "metadata": {},
   "outputs": [
    {
     "name": "stdout",
     "output_type": "stream",
     "text": [
      "(1, 2)\n",
      "(4, 5)\n",
      "(6, 7)\n"
     ]
    }
   ],
   "source": [
    "# Assignment 13: Nested Tuple Iteration¶\n",
    "\n",
    "# Create a nested tuple and iterate over the elements, printing each element.\n",
    "nested_tuple = ((1,2),(4,5),(6,7))\n",
    "\n",
    "for tpl in nested_tuple:\n",
    "    print(tpl)"
   ]
  },
  {
   "cell_type": "code",
   "execution_count": 99,
   "id": "6ced27e2-bc70-4342-8ccb-e6839519d959",
   "metadata": {},
   "outputs": [
    {
     "name": "stdout",
     "output_type": "stream",
     "text": [
      "{1, 2, 3, 4, 5}\n"
     ]
    }
   ],
   "source": [
    "# Assignment 14: Tuple and Set\n",
    "\n",
    "# Create a tuple with duplicate elements. Convert it to a set to remove duplicates and print the resulting set.\n",
    "tuple_var = (1,2,3,4,5,3,4)\n",
    "\n",
    "tpl_to_set = set(tuple_var)\n",
    "print(tpl_to_set)"
   ]
  }
 ],
 "metadata": {
  "kernelspec": {
   "display_name": "Python [conda env:base] *",
   "language": "python",
   "name": "conda-base-py"
  },
  "language_info": {
   "codemirror_mode": {
    "name": "ipython",
    "version": 3
   },
   "file_extension": ".py",
   "mimetype": "text/x-python",
   "name": "python",
   "nbconvert_exporter": "python",
   "pygments_lexer": "ipython3",
   "version": "3.12.2"
  }
 },
 "nbformat": 4,
 "nbformat_minor": 5
}
