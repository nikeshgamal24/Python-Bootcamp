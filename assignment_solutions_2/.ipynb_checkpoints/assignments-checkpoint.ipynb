{
 "cells": [
  {
   "cell_type": "markdown",
   "id": "c4a78e12",
   "metadata": {},
   "source": [
    "# Module 2: Control Flow Assignments\n",
    "## Lesson 2.1: Conditional Statements\n",
    "### Assignment 1: Simple if Statement\n",
    "\n",
    "Write a program that asks the user to input a number and prints whether the number is positive.\n",
    "\n",
    "### Assignment 2: if-else Statement\n",
    "\n",
    "Write a program that asks the user to input a number and prints whether the number is positive or negative.\n",
    "\n",
    "### Assignment 3: if-elif-else Statement\n",
    "\n",
    "Write a program that asks the user to input a number and prints whether the number is positive, negative, or zero.\n",
    "\n",
    "### Assignment 4: Nested if Statement\n",
    "\n",
    "Write a program that asks the user to input a number and prints whether the number is positive and even, positive and odd, or negative.\n",
    "\n",
    "## Lesson 2.2: Loops\n",
    "### Assignment 5: for Loop\n",
    "\n",
    "Write a program that prints all the numbers from 1 to 10 using a for loop.\n",
    "\n",
    "### Assignment 6: while Loop\n",
    "\n",
    "Write a program that prints all the numbers from 1 to 10 using a while loop.\n",
    "\n",
    "### Assignment 7: Nested Loops\n",
    "\n",
    "Write a program that prints a 5x5 grid of asterisks (*) using nested loops.\n",
    "\n",
    "### Assignment 8: break Statement\n",
    "\n",
    "Write a program that asks the user to input numbers until they input 0. The program should print the sum of all the input numbers.\n",
    "\n",
    "### Assignment 9: continue Statement\n",
    "\n",
    "Write a program that prints all the numbers from 1 to 10 except 5 using a for loop and continue statement.\n",
    "\n",
    "### Assignment 10: pass Statement\n",
    "\n",
    "Write a program that defines an empty function using the pass statement.\n",
    "\n",
    "### Assignment 11: Combining Loops and Conditionals\n",
    "\n",
    "Write a program that asks the user to input a number and prints all the even numbers from 1 to that number using a for loop.\n",
    "\n",
    "### Assignment 12: Factorial Calculation\n",
    "\n",
    "Write a program that calculates the factorial of a number input by the user using a while loop.\n",
    "\n",
    "### Assignment 13: Sum of Digits\n",
    "\n",
    "Write a program that calculates the sum of the digits of a number input by the user using a while loop.\n",
    "\n",
    "### Assignment 14: Prime Number Check\n",
    "\n",
    "Write a program that checks if a number input by the user is a prime number using a for loop.\n",
    "\n",
    "### Assignment 15: Fibonacci Sequence\n",
    "\n",
    "Write a program that prints the first n Fibonacci numbers, where n is input by the user."
   ]
  },
  {
   "cell_type": "code",
   "execution_count": 2,
   "id": "d5cb199d",
   "metadata": {},
   "outputs": [
    {
     "name": "stdin",
     "output_type": "stream",
     "text": [
      "Enter a number:  5\n"
     ]
    },
    {
     "name": "stdout",
     "output_type": "stream",
     "text": [
      "5.0 is positive number\n"
     ]
    }
   ],
   "source": [
    "##  Assignment 1: Simple if Statement\n",
    "\n",
    "### Write a program that asks the user to input a number and prints whether the number is positive.\n",
    "num = float(input('Enter a number: '))\n",
    "\n",
    "if num > 0:\n",
    "    print(f'{num} is positive number')\n"
   ]
  },
  {
   "cell_type": "code",
   "execution_count": 3,
   "id": "cecd3a0e-dc6d-40d2-a376-b2e0e8d398c1",
   "metadata": {},
   "outputs": [
    {
     "name": "stdin",
     "output_type": "stream",
     "text": [
      "Enter a number:  2\n"
     ]
    },
    {
     "name": "stdout",
     "output_type": "stream",
     "text": [
      "2.0 is positive number\n"
     ]
    }
   ],
   "source": [
    "# Assignment 2: if-else Statement\n",
    "\n",
    "# Write a program that asks the user to input a number and prints whether the number is positive or negative.\n",
    "num = float(input('Enter a number: '))\n",
    "\n",
    "if num > 0 :\n",
    "    print(f'{num} is positive number')\n",
    "else:\n",
    "    print(f'{num} is negative')\n"
   ]
  },
  {
   "cell_type": "code",
   "execution_count": 4,
   "id": "b5cbfc0c-11fa-45a3-bffa-2d1de5b937f6",
   "metadata": {},
   "outputs": [
    {
     "name": "stdin",
     "output_type": "stream",
     "text": [
      "Enter a number:  0\n"
     ]
    },
    {
     "name": "stdout",
     "output_type": "stream",
     "text": [
      "0.0 is a zero number\n"
     ]
    }
   ],
   "source": [
    "# Assignment 3: if-elif-else Statement\n",
    "\n",
    "# Write a program that asks the user to input a number and prints whether the number is positive, negative, or zero.\n",
    "\n",
    "num = float(input('Enter a number: '))\n",
    "\n",
    "if num > 0 :\n",
    "    print(f'{num} is positive number')\n",
    "elif num == 0:\n",
    "    print(f'{num} is a zero number')\n",
    "else:\n",
    "    print(f'{num} is a negative number')\n"
   ]
  },
  {
   "cell_type": "code",
   "execution_count": 5,
   "id": "28fbe82e-541d-41b9-9cbb-72d8f3341e6f",
   "metadata": {},
   "outputs": [
    {
     "name": "stdin",
     "output_type": "stream",
     "text": [
      "Enter a number:  -8\n"
     ]
    },
    {
     "name": "stdout",
     "output_type": "stream",
     "text": [
      "-8.0 is a negative number\n",
      "-8.0 is also even number\n"
     ]
    }
   ],
   "source": [
    "# # Assignment 4: Nested if Statement\n",
    "\n",
    "# Write a program that asks the user to input a number and prints whether the number is positive and even, positive and odd, or negative.\n",
    "num = float(input('Enter a number: '))\n",
    "\n",
    "if num > 0 :\n",
    "    print(f'{num} is positive number')\n",
    "    if num%2==0:\n",
    "        print(f'{num} is also even number')\n",
    "    else:\n",
    "        print(f'{num} is also odd number')\n",
    "elif num < 0:\n",
    "    print(f'{num} is a negative number')\n",
    "    if num%2==0:\n",
    "        print(f'{num} is also even number')\n",
    "    else:\n",
    "        print(f'{num} is also odd number')\n",
    "else:\n",
    "    print(f'{num} is a zero number')\n"
   ]
  },
  {
   "cell_type": "code",
   "execution_count": 6,
   "id": "18f7148e-7a28-45ca-a157-8376b53469fe",
   "metadata": {},
   "outputs": [],
   "source": [
    "### Lesson 2.2: Loops"
   ]
  },
  {
   "cell_type": "code",
   "execution_count": 7,
   "id": "452523ab-1d2d-44dc-9968-54a09a9a8e42",
   "metadata": {},
   "outputs": [
    {
     "name": "stdout",
     "output_type": "stream",
     "text": [
      "1\n",
      "2\n",
      "3\n",
      "4\n",
      "5\n",
      "6\n",
      "7\n",
      "8\n",
      "9\n",
      "10\n"
     ]
    }
   ],
   "source": [
    "# Assignment 5: for Loop\n",
    "\n",
    "# Write a program that prints all the numbers from 1 to 10 using a for loop.\n",
    "\n",
    "for i in range(1,11):\n",
    "    print(i)"
   ]
  },
  {
   "cell_type": "code",
   "execution_count": 20,
   "id": "c20b98e1-a152-4de6-a911-50f2df0ae5b2",
   "metadata": {},
   "outputs": [
    {
     "name": "stdout",
     "output_type": "stream",
     "text": [
      "1\n",
      "2\n",
      "3\n",
      "4\n",
      "5\n",
      "6\n",
      "7\n",
      "8\n",
      "9\n",
      "10\n"
     ]
    }
   ],
   "source": [
    "# Assignment 6: while Loop\n",
    "\n",
    "# Write a program that prints all the numbers from 1 to 10 using a while loop.\n",
    "i = 1\n",
    "while i <= 10:\n",
    "    print(i)\n",
    "    i += 1\n",
    "    "
   ]
  },
  {
   "cell_type": "code",
   "execution_count": 32,
   "id": "b6baf14f-b1b2-411a-91c0-fe6041035f90",
   "metadata": {},
   "outputs": [
    {
     "name": "stdout",
     "output_type": "stream",
     "text": [
      "\n",
      "\n",
      "* * * * * \n",
      "\n",
      "* * * * * \n",
      "\n",
      "* * * * * \n",
      "\n",
      "* * * * * \n",
      "\n",
      "* * * * * "
     ]
    }
   ],
   "source": [
    "# Assignment 7: Nested Loops\n",
    "\n",
    "# Write a program that prints a 5x5 grid of asterisks (*) using nested loops.\n",
    "\n",
    "for i in range(1,6):\n",
    "    print(\"\\n\")\n",
    "    for j in range(1,6):\n",
    "        print(\"*\", end= \" \")"
   ]
  },
  {
   "cell_type": "code",
   "execution_count": 37,
   "id": "4efb33dd-a4e0-413a-8f22-db3c8c2ee7ff",
   "metadata": {},
   "outputs": [
    {
     "name": "stdin",
     "output_type": "stream",
     "text": [
      "Enter a number:  1\n",
      "Enter a number:  2\n",
      "Enter a number:  3\n",
      "Enter a number:  4\n",
      "Enter a number:  5\n",
      "Enter a number:  0\n"
     ]
    },
    {
     "name": "stdout",
     "output_type": "stream",
     "text": [
      "Total Sum of the numbers is: 15.0\n"
     ]
    }
   ],
   "source": [
    "# Assignment 8: break Statement\n",
    "\n",
    "# Write a program that asks the user to input numbers until they input 0. The program should print the sum of all the input numbers.\n",
    "sum_numbers = 0\n",
    "while 1:\n",
    "    num = float(input(\"Enter a number: \"))\n",
    "    if num == 0:\n",
    "        break\n",
    "    else:\n",
    "        sum_numbers +=num\n",
    "\n",
    "print(f'Total Sum of the numbers is: {sum_numbers}')"
   ]
  },
  {
   "cell_type": "code",
   "execution_count": 44,
   "id": "1a7c771b-78e2-4bad-80e2-7bf8747bc752",
   "metadata": {},
   "outputs": [
    {
     "name": "stdout",
     "output_type": "stream",
     "text": [
      "1\n",
      "2\n",
      "3\n",
      "4\n",
      "6\n",
      "7\n",
      "8\n",
      "9\n",
      "10\n"
     ]
    }
   ],
   "source": [
    "# Assignment 9: continue Statement\n",
    "\n",
    "# Write a program that prints all the numbers from 1 to 10 except 5 using a for loop and continue statement.\n",
    "\n",
    "for i in range(1,11):\n",
    "    if i == 5:\n",
    "        continue\n",
    "    print(i)"
   ]
  },
  {
   "cell_type": "code",
   "execution_count": 62,
   "id": "a692e3f7-e503-4860-9526-5bc6318184f4",
   "metadata": {},
   "outputs": [
    {
     "name": "stdin",
     "output_type": "stream",
     "text": [
      "Enter a number:  55\n"
     ]
    },
    {
     "name": "stdout",
     "output_type": "stream",
     "text": [
      "2 4 6 8 10 12 14 16 18 20 22 24 26 28 30 32 34 36 38 40 42 44 46 48 50 52 54 "
     ]
    }
   ],
   "source": [
    "# Assignment 11: Combining Loops and Conditionals\n",
    "\n",
    "# Write a program that asks the user to input a number and prints all the even numbers from 1 to that number using a for loop.\n",
    "num = int(input('Enter a number: '))\n",
    "\n",
    "for i in range(1,num+1):\n",
    "    if i % 2 == 0:\n",
    "        print(i , end = ' ')"
   ]
  },
  {
   "cell_type": "code",
   "execution_count": 66,
   "id": "4ca6519d-6f4a-438b-8dd8-f64e8ce7e699",
   "metadata": {},
   "outputs": [
    {
     "name": "stdin",
     "output_type": "stream",
     "text": [
      "Enter a number:  6\n"
     ]
    },
    {
     "name": "stdout",
     "output_type": "stream",
     "text": [
      "The factorail of 5 is 720\n"
     ]
    }
   ],
   "source": [
    "# Assignment 12: Factorial Calculation\n",
    "\n",
    "# Write a program that calculates the factorial of a number input by the user using a while loop.\n",
    "num = int(input('Enter a number: '))\n",
    "\n",
    "factorial = 1\n",
    "\n",
    "for i in range(1, num+1):\n",
    "    factorial *= i\n",
    "print(f'The factorail of {5} is {factorial}')"
   ]
  },
  {
   "cell_type": "code",
   "execution_count": 86,
   "id": "5325dffa-7d53-49b4-9d43-12b0c3f07bc3",
   "metadata": {},
   "outputs": [
    {
     "name": "stdin",
     "output_type": "stream",
     "text": [
      "Enter a number:  12345\n"
     ]
    },
    {
     "name": "stdout",
     "output_type": "stream",
     "text": [
      "15\n"
     ]
    }
   ],
   "source": [
    "# Assignment 13: Sum of Digits\n",
    "\n",
    "# Write a program that calculates the sum of the digits of a number input by the user using a while loop.\n",
    "num = int(input('Enter a number: '))\n",
    "sum_of_digits = 0\n",
    "while num > 0:\n",
    "    remainder = num % 10\n",
    "    sum_of_digits += remainder\n",
    "    num =  num // 10  #// for integer division\n",
    "print(sum_of_digits)"
   ]
  },
  {
   "cell_type": "code",
   "execution_count": 110,
   "id": "da249070-6e78-40a5-bf28-5cf5580de800",
   "metadata": {},
   "outputs": [
    {
     "name": "stdin",
     "output_type": "stream",
     "text": [
      "Enter a number:  5631\n"
     ]
    },
    {
     "name": "stdout",
     "output_type": "stream",
     "text": [
      "5631 is not a prime number\n"
     ]
    }
   ],
   "source": [
    "# Assignment 14: Prime Number Check\n",
    "\n",
    "# Write a program that checks if a number input by the user is a prime number using a for loop.\n",
    "\n",
    "num = int(input('Enter a number: '))\n",
    "counter = 0\n",
    "for i in range(1,num+1):\n",
    "    if num % i == 0:\n",
    "        counter += 1\n",
    "\n",
    "if counter == 2 :\n",
    "    print(f'{num} is a prime number')\n",
    "else:\n",
    "    print(f'{num} is not a prime number')"
   ]
  },
  {
   "cell_type": "code",
   "execution_count": 124,
   "id": "8c7f5f10-42e2-4eaf-b5f5-b7030609cdb0",
   "metadata": {},
   "outputs": [
    {
     "name": "stdin",
     "output_type": "stream",
     "text": [
      "Enter nth term of the fibonacci number:  10\n"
     ]
    },
    {
     "name": "stdout",
     "output_type": "stream",
     "text": [
      "1 1 2 3 5 8 13 21 34 55 89 144 "
     ]
    }
   ],
   "source": [
    "# Assignment 15: Fibonacci Sequence\n",
    "\n",
    "# Write a program that prints the first n Fibonacci numbers, where n is input by the user.\n",
    "num = int(input('Enter nth term of the fibonacci number: '))\n",
    "a = 1\n",
    "b=1\n",
    "print(a,end=' ')\n",
    "print(b,end=' ')\n",
    "for i in range(1, num+1):\n",
    "    c = a + b\n",
    "    print(c,end=' ')\n",
    "    a = b\n",
    "    b = c"
   ]
  }
 ],
 "metadata": {
  "kernelspec": {
   "display_name": "Python [conda env:base] *",
   "language": "python",
   "name": "conda-base-py"
  },
  "language_info": {
   "codemirror_mode": {
    "name": "ipython",
    "version": 3
   },
   "file_extension": ".py",
   "mimetype": "text/x-python",
   "name": "python",
   "nbconvert_exporter": "python",
   "pygments_lexer": "ipython3",
   "version": "3.12.2"
  }
 },
 "nbformat": 4,
 "nbformat_minor": 5
}
