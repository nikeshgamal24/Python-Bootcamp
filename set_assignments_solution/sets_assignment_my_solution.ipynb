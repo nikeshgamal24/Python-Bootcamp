{
 "cells": [
  {
   "cell_type": "markdown",
   "id": "6a147ba1",
   "metadata": {},
   "source": [
    "# Module 3: Data Structures Assignments\n",
    "## Lesson 3.3: Sets\n",
    "### Assignment 1: Creating and Accessing Sets\n",
    "\n",
    "Create a set with the first 10 positive integers. Print the set.\n",
    "\n",
    "### Assignment 2: Adding and Removing Elements\n",
    "\n",
    "Add the number 11 to the set created in Assignment 1. Then remove the number 1 from the set. Print the modified set.\n",
    "\n",
    "### Assignment 3: Set Operations\n",
    "\n",
    "Create two sets: one with the first 5 positive integers and another with the first 5 even integers. Perform and print the results of union, intersection, difference, and symmetric difference operations on these sets.\n",
    "\n",
    "### Assignment 4: Set Comprehensions\n",
    "\n",
    "Create a new set containing the squares of the first 10 positive integers using a set comprehension. Print the new set.\n",
    "\n",
    "### Assignment 5: Filtering Sets\n",
    "\n",
    "Create a new set containing only the even numbers from the set created in Assignment 1 using a set comprehension. Print the new set.\n",
    "\n",
    "### Assignment 6: Set Methods\n",
    "\n",
    "Assignment 10: Set and Dictionary\n",
    "\n",
    "Create a dictionary with set keys and integer values. Print the dictionary.\n",
    "### Assignment 7: Subsets and Supersets\n",
    "\n",
    "Create two seAssignment 4: Set Comprehensions\n",
    "\n",
    "Create a new set containing the squares of the first 10 positive integers using a set comprehension. Print the new set.ts: one with the first 5 positive integers and another with the first 3 positive integers. Check if the second set is a subset of the first set and if the first set is a superset of the second set. Print the results.\n",
    "\n",
    "### Assignment 8: Frozenset\n",
    "\n",
    "Create a frozenset with the first 5 positive integers. Print the frozenset.\n",
    "\n",
    "### Assignment 9: Set and List Conversion\n",
    "\n",
    "Create a set with the first 5 positive integers. Convert it to a list, append the number 6, and convert it back to a set. Print the resulting set.\n",
    "\n",
    "### Assignment 10: Set and Dictionary\n",
    "\n",
    "Create a dictionary with set keys and integer values. Print the dictionary.\n",
    "\n",
    "### Assignment 11: Iterating Over Sets\n",
    "\n",
    "Create a set and iterate over the elements, printing each element.\n",
    "\n",
    "### Assignment 12: Removing Elements from Sets\n",
    "\n",
    "Create a set and remove elements from it until it is empty. Print the set after each removal.\n",
    "\n",
    "### Assignment 13: Set Symmetric Difference Update\n",
    "\n",
    "Create two sets and update the first set with the symmetric difference of the two sets. Print the modified first set.\n",
    "\n",
    "### Assignment 14: Set Membership Testing\n",
    "\n",
    "Create a set and test if certain elements are present in the set. Print the results.\n",
    "\n",
    "### Assignment 15: Set of Tuples\n",
    "\n",
    "Create a set containing tuples, where each tuple contains two elements. Print the set."
   ]
  },
  {
   "cell_type": "code",
   "execution_count": 18,
   "id": "44d71a0b",
   "metadata": {},
   "outputs": [
    {
     "name": "stdout",
     "output_type": "stream",
     "text": [
      "{1, 2, 3, 4, 5, 6, 7, 8, 9, 10}\n"
     ]
    }
   ],
   "source": [
    "# Assignment 1: Creating and Accessing Sets\n",
    "\n",
    "# Create a set with the first 10 positive integers. Print the set.\n",
    "\n",
    "positive_integer_set = set(range(1,11))\n",
    "print(positive_integer_set)"
   ]
  },
  {
   "cell_type": "code",
   "execution_count": 20,
   "id": "7eb3ac59-aea1-4703-a7e6-19d8094c2353",
   "metadata": {},
   "outputs": [
    {
     "name": "stdout",
     "output_type": "stream",
     "text": [
      "{1, 2, 3, 4, 5, 6, 7, 8, 9, 10, 11}\n",
      "{2, 3, 4, 5, 6, 7, 8, 9, 10, 11}\n"
     ]
    }
   ],
   "source": [
    "# Assignment 2: Adding and Removing Elements\n",
    "\n",
    "# Add the number 11 to the set created in Assignment 1. Then remove the number 1 from the set. Print the modified set.\n",
    "positive_integer_set.add(11)\n",
    "print(positive_integer_set)\n",
    "\n",
    "positive_integer_set.remove(1)\n",
    "\n",
    "print(positive_integer_set)\n"
   ]
  },
  {
   "cell_type": "code",
   "execution_count": null,
   "id": "766a7a37-4eea-4cbf-8c8a-e6e3863b365b",
   "metadata": {},
   "outputs": [],
   "source": [
    "# Assignment 3: Set Operations¶\n",
    "\n",
    "# Create two sets: one with the first 5 positive integers and another with the first 5 even integers.\n",
    "# Perform and print the results of union, intersection, difference, and symmetric difference operations on these sets."
   ]
  },
  {
   "cell_type": "code",
   "execution_count": 30,
   "id": "82bc3463-f28b-4858-9ded-890a373a5972",
   "metadata": {},
   "outputs": [
    {
     "name": "stdout",
     "output_type": "stream",
     "text": [
      "{1, 2, 3, 4, 5}\n",
      "{2, 4, 6, 8, 10}\n",
      "Union Set: {1, 2, 3, 4, 5, 6, 8, 10}\n",
      "Intersection Set: {2, 4}\n",
      "Difference Set: {1, 3, 5}\n",
      "Symmetric Difference Set:  {1, 3, 5, 6, 8, 10}\n"
     ]
    }
   ],
   "source": [
    "poisitve_integer = set(range(1,6))\n",
    "even_integer = set(range(2,11,2))\n",
    "\n",
    "print(poisitve_integer)\n",
    "print(even_integer)\n",
    "\n",
    "union_set = poisitve_integer.union(even_integer)\n",
    "intersection_set = poisitve_integer.intersection(even_integer)\n",
    "difference_set = poisitve_integer.difference(even_integer)\n",
    "symmetric_difference_set = poisitve_integer.symmetric_difference(even_integer)\n",
    "\n",
    "print(f'Union Set: {union_set}') # expected output: {1, 2, 3, 4, 5, 6, 8, 10}\n",
    "print(f'Intersection Set: {intersection_set}')  # expected output: {2, 4}\n",
    "print(f'Difference Set: {difference_set}')  # expected output: {1, 3, 5}\n",
    "print(f'Symmetric Difference Set:  {symmetric_difference_set}') # expected output: {1, 3, 5, 6, 8, 10}\n"
   ]
  },
  {
   "cell_type": "code",
   "execution_count": 65,
   "id": "5a202d0f-ee05-46d3-86af-437eac358d2f",
   "metadata": {},
   "outputs": [
    {
     "name": "stdout",
     "output_type": "stream",
     "text": [
      "{64, 1, 4, 36, 100, 9, 16, 49, 81, 25}\n"
     ]
    }
   ],
   "source": [
    "# Assignment 4: Set Comprehensions\n",
    "\n",
    "# Create a new set containing the squares of the first 10 positive integers using a set comprehension. Print the new set.\n",
    "square_numbers = {num**2 for num in range(1, 11)}\n",
    "\n",
    "print(square_numbers)"
   ]
  },
  {
   "cell_type": "code",
   "execution_count": 146,
   "id": "e2dd2b81-35b1-4b53-8a0a-434e18efd089",
   "metadata": {},
   "outputs": [
    {
     "name": "stdout",
     "output_type": "stream",
     "text": [
      "{2, 4, 6, 8, 10}\n"
     ]
    }
   ],
   "source": [
    "# Assignment 5: Filtering Sets\n",
    "\n",
    "# Create a new set containing only the even numbers from the set created in Assignment 1 using a set comprehension. Print the new set.\n",
    "even_numbers = {num for num in range(1,11) if num % 2 == 0}\n",
    "print(even_numbers)"
   ]
  },
  {
   "cell_type": "code",
   "execution_count": 148,
   "id": "65f6c71c-c7b3-4135-b6f1-8df8a2846f85",
   "metadata": {},
   "outputs": [
    {
     "name": "stdout",
     "output_type": "stream",
     "text": [
      "{1, 2, 3, 4, 5}\n"
     ]
    }
   ],
   "source": [
    "# Assignment 6: Set Methods¶\n",
    "\n",
    "# Create a set with duplicate elements and remove the duplicates using set methods. Print the modified set.\n",
    "random_set = {1,2,3,4,5,4,3,2}\n",
    "print(random_set)"
   ]
  },
  {
   "cell_type": "code",
   "execution_count": 150,
   "id": "d35373d2-cde1-47fd-9187-75d541492a5a",
   "metadata": {},
   "outputs": [
    {
     "name": "stdout",
     "output_type": "stream",
     "text": [
      "Set 1 of Sub Set of Set 2: False\n",
      "Set 1 of Super Set of Set 2: True\n"
     ]
    }
   ],
   "source": [
    "# Assignment 7: Subsets and Supersets\n",
    "\n",
    "# Create a new set containing  one with the first 5 positive integers and another with the first 3 positive integers. \n",
    "# Check if the second set is a subset of the first set and if the first set is a superset of the second set. Print the results.\n",
    "set1 = {1,2,3,4,5}\n",
    "set2 = {3,4,2}\n",
    "\n",
    "print(f'Set 1 of Sub Set of Set 2: {set1.issubset(set2)}')\n",
    "print(f'Set 1 of Super Set of Set 2: {set1.issuperset(set2)}')"
   ]
  },
  {
   "cell_type": "code",
   "execution_count": 152,
   "id": "f23c39d1-47c1-4c54-a20b-724529de9abe",
   "metadata": {},
   "outputs": [
    {
     "name": "stdout",
     "output_type": "stream",
     "text": [
      "frozenset({1, 2, 3, 4, 5, 6, 7, 8, 9, 10})\n"
     ]
    }
   ],
   "source": [
    "# Assignment 8: Frozenset\n",
    "\n",
    "# Create a frozenset with the first 5 positive integers. Print the frozenset.\n",
    "integer_numbers = set(range(1,11))\n",
    "frozen_set = frozenset(integer_numbers)\n",
    "print(frozen_set)\n",
    "# frozen_set = frozen_set.add(22)  # Error"
   ]
  },
  {
   "cell_type": "code",
   "execution_count": 154,
   "id": "fc2806a7-fa9c-41a9-ab40-b1d6be0bf9ca",
   "metadata": {},
   "outputs": [
    {
     "name": "stdout",
     "output_type": "stream",
     "text": [
      "{1, 2, 3, 4, 5}\n",
      "[1, 2, 3, 4, 5]\n",
      "[1, 2, 3, 4, 5, 6]\n"
     ]
    }
   ],
   "source": [
    "# Assignment 9: Set and List Conversion\n",
    "\n",
    "# Create a set with the first 5 positive integers. \n",
    "positive_numbers_set = set(range(1,6))\n",
    "print(positive_numbers_set)\n",
    "# Convert it to a list, append the number 6, and convert it back to a set. Print the resulting set.\n",
    "list_positive_numbers = list(positive_numbers_set)\n",
    "print(list_positive_numbers)\n",
    "\n",
    "list_positive_numbers.append(6)\n",
    "print(list_positive_numbers)"
   ]
  },
  {
   "cell_type": "code",
   "execution_count": 156,
   "id": "848a9eb0-09e3-4bc1-ac32-a4398aa8c831",
   "metadata": {},
   "outputs": [
    {
     "name": "stdout",
     "output_type": "stream",
     "text": [
      "{'x': 5, 'y': 6}\n"
     ]
    }
   ],
   "source": [
    "# Assignment 10: Set and Dictionary\n",
    "\n",
    "# Create a dictionary with set keys and integer values. Print the dictionary.\n",
    "student = {\"x\":5, \"y\":6}\n",
    "print(student) "
   ]
  },
  {
   "cell_type": "code",
   "execution_count": 158,
   "id": "94463279-83a2-4151-82b0-03a496f87a68",
   "metadata": {},
   "outputs": [
    {
     "name": "stdout",
     "output_type": "stream",
     "text": [
      "{1, 2, 3, 4, 5}\n",
      "1\n",
      "2\n",
      "3\n",
      "4\n",
      "5\n"
     ]
    }
   ],
   "source": [
    "# Assignment 11: Iterating Over Sets\n",
    "\n",
    "# Create a set and iterate over the elements, printing each element.\n",
    "positive_numbers_set = set(range(1,6))\n",
    "print(positive_numbers_set)\n",
    "\n",
    "for num in positive_numbers_set:\n",
    "    print(num)"
   ]
  },
  {
   "cell_type": "code",
   "execution_count": 160,
   "id": "f40f0c90-eacf-4d8e-abf7-c9f257b262ed",
   "metadata": {},
   "outputs": [],
   "source": [
    "# Assignment 12: Removing Elements from Sets\n",
    "\n",
    "# Create a set and remove elements from it until it is empty. Print the set after each removal.\n"
   ]
  },
  {
   "cell_type": "code",
   "execution_count": 162,
   "id": "e79d19de-0aeb-411f-ba21-946beb39fba6",
   "metadata": {},
   "outputs": [
    {
     "name": "stdout",
     "output_type": "stream",
     "text": [
      "{2, 3, 4, 5}\n",
      "{3, 4, 5}\n",
      "{4, 5}\n",
      "{5}\n",
      "set()\n"
     ]
    }
   ],
   "source": [
    "positive_numbers_set = set(range(1,6))\n",
    "\n",
    "while len(positive_numbers_set):\n",
    "    positive_numbers_set.pop()\n",
    "    print(positive_numbers_set)\n",
    "    "
   ]
  },
  {
   "cell_type": "code",
   "execution_count": 169,
   "id": "f672adc9-67f5-4ed8-8a71-62ab75d346c8",
   "metadata": {},
   "outputs": [
    {
     "name": "stdout",
     "output_type": "stream",
     "text": [
      "{1, 2, 3, 4, 5}\n",
      "{2, 4, 6, 8, 10}\n",
      "Symmetric Difference Set:  {1, 3, 5, 6, 8, 10}\n"
     ]
    }
   ],
   "source": [
    "# Assignment 13: Set Symmetric Difference Update\n",
    "\n",
    "# Create two sets and update the first set with the symmetric difference of the two sets. Print the modified first set.\n",
    "poisitve_integer = set(range(1,6))\n",
    "even_integer = set(range(2,11,2))\n",
    "\n",
    "print(poisitve_integer)\n",
    "print(even_integer)\n",
    "\n",
    "poisitve_integer = poisitve_integer.symmetric_difference(even_integer)\n",
    "\n",
    "print(f'Symmetric Difference Set:  {poisitve_integer}') # expected output: {1, 3, 5, 6, 8, 10}\n"
   ]
  },
  {
   "cell_type": "code",
   "execution_count": 182,
   "id": "78df49e8-6a19-4ec5-a1d6-bd53128cac21",
   "metadata": {},
   "outputs": [
    {
     "name": "stdout",
     "output_type": "stream",
     "text": [
      "8 is not present in the given set\n",
      "9 is not present in the given set\n",
      "4 is present in the given set\n",
      "6 is present in the given set\n"
     ]
    }
   ],
   "source": [
    "# Assignment 14: Set Membership Testing\n",
    "\n",
    "# Create a set and test if certain elements are present in the set. Print the results.\n",
    "poisitve_integer = set(range(1,7))\n",
    "elements = {6,8,4,9}\n",
    "\n",
    "for num in elements:\n",
    "    if num in poisitve_integer:\n",
    "        print(f'{num} is present in the given set')\n",
    "    else:\n",
    "        print(f'{num} is not present in the given set')"
   ]
  },
  {
   "cell_type": "code",
   "execution_count": 185,
   "id": "519dc337-a101-4c2b-b166-311cfac28677",
   "metadata": {},
   "outputs": [
    {
     "name": "stdout",
     "output_type": "stream",
     "text": [
      "{(1, 2), (5, 6)}\n"
     ]
    }
   ],
   "source": [
    "# Assignment 15: Set of Tuples\n",
    "\n",
    "# Create a set containing tuples, where each tuple contains two elements. Print the set.\n",
    "s = {(1,2),(5,6)}\n",
    "print(s)"
   ]
  }
 ],
 "metadata": {
  "kernelspec": {
   "display_name": "Python [conda env:base] *",
   "language": "python",
   "name": "conda-base-py"
  },
  "language_info": {
   "codemirror_mode": {
    "name": "ipython",
    "version": 3
   },
   "file_extension": ".py",
   "mimetype": "text/x-python",
   "name": "python",
   "nbconvert_exporter": "python",
   "pygments_lexer": "ipython3",
   "version": "3.12.2"
  }
 },
 "nbformat": 4,
 "nbformat_minor": 5
}
