{
 "cells": [
  {
   "cell_type": "markdown",
   "id": "0a499698",
   "metadata": {},
   "source": [
    "# Module: Pandas Assignments\n",
    "## Lesson: Pandas\n",
    "### Assignment 1: DataFrame Creation and Indexing\n",
    "\n",
    "1. Create a Pandas DataFrame with 4 columns and 6 rows filled with random integers. Set the index to be the first column.\n",
    "2. Create a Pandas DataFrame with columns 'A', 'B', 'C' and index 'X', 'Y', 'Z'. Fill the DataFrame with random integers and access the element at row 'Y' and column 'B'.\n",
    "\n",
    "### Assignment 2: DataFrame Operations\n",
    "\n",
    "1. Create a Pandas DataFrame with 3 columns and 5 rows filled with random integers. Add a new column that is the product of the first two columns.\n",
    "2. Create a Pandas DataFrame with 3 columns and 4 rows filled with random integers. Compute the row-wise and column-wise sum.\n",
    "\n",
    "### Assignment 3: Data Cleaning\n",
    "\n",
    "1. Create a Pandas DataFrame with 3 columns and 5 rows filled with random integers. Introduce some NaN values. Fill the NaN values with the mean of the respective columns.\n",
    "2. Create a Pandas DataFrame with 4 columns and 6 rows filled with random integers. Introduce some NaN values. Drop the rows with any NaN values.\n",
    "\n",
    "### Assignment 4: Data Aggregation\n",
    "\n",
    "1. Create a Pandas DataFrame with 2 columns: 'Category' and 'Value'. Fill the 'Category' column with random categories ('A', 'B', 'C') and the 'Value' column with random integers. Group the DataFrame by 'Category' and compute the sum and mean of 'Value' for each category.\n",
    "2. Create a Pandas DataFrame with 3 columns: 'Product', 'Category', and 'Sales'. Fill the DataFrame with random data. Group the DataFrame by 'Category' and compute the total sales for each category.\n",
    "\n",
    "### Assignment 5: Merging DataFrames\n",
    "\n",
    "1. Create two Pandas DataFrames with a common column. Merge the DataFrames using the common column.\n",
    "2. Create two Pandas DataFrames with different columns. Concatenate the DataFrames along the rows and along the columns.\n",
    "\n",
    "### Assignment 6: Time Series Analysis\n",
    "\n",
    "1. Create a Pandas DataFrame with a datetime index and one column filled with random integers. Resample the DataFrame to compute the monthly mean of the values.\n",
    "2. Create a Pandas DataFrame with a datetime index ranging from '2021-01-01' to '2021-12-31' and one column filled with random integers. Compute the rolling mean with a window of 7 days.\n",
    "\n",
    "### Assignment 7: MultiIndex DataFrame\n",
    "\n",
    "1. Create a Pandas DataFrame with a MultiIndex (hierarchical index). Perform some basic indexing and slicing operations on the MultiIndex DataFrame.\n",
    "2. Create a Pandas DataFrame with MultiIndex consisting of 'Category' and 'SubCategory'. Fill the DataFrame with random data and compute the sum of values for each 'Category' and 'SubCategory'.\n",
    "\n",
    "### Assignment 8: Pivot Tables\n",
    "\n",
    "1. Create a Pandas DataFrame with columns 'Date', 'Category', and 'Value'. Create a pivot table to compute the sum of 'Value' for each 'Category' by 'Date'.\n",
    "2. Create a Pandas DataFrame with columns 'Year', 'Quarter', and 'Revenue'. Create a pivot table to compute the mean 'Revenue' for each 'Quarter' by 'Year'.\n",
    "\n",
    "### Assignment 9: Applying Functions\n",
    "\n",
    "1. Create a Pandas DataFrame with 3 columns and 5 rows filled with random integers. Apply a function that doubles the values of the DataFrame.\n",
    "2. Create a Pandas DataFrame with 3 columns and 6 rows filled with random integers. Apply a lambda function to create a new column that is the sum of the existing columns.\n",
    "\n",
    "### Assignment 10: Working with Text Data\n",
    "\n",
    "1. Create a Pandas Series with 5 random text strings. Convert all the strings to uppercase.\n",
    "2. Create a Pandas Series with 5 random text strings. Extract the first three characters of each string.\n"
   ]
  },
  {
   "cell_type": "code",
   "execution_count": 18,
   "id": "d61e9bd9-c16a-48e0-9702-874693c1f5de",
   "metadata": {},
   "outputs": [
    {
     "name": "stdout",
     "output_type": "stream",
     "text": [
      "Requirement already satisfied: pandas in /home/nikeshgamal/anaconda3/lib/python3.12/site-packages (2.2.3)\n",
      "Requirement already satisfied: numpy>=1.26.0 in /home/nikeshgamal/anaconda3/lib/python3.12/site-packages (from pandas) (1.26.4)\n",
      "Requirement already satisfied: python-dateutil>=2.8.2 in /home/nikeshgamal/anaconda3/lib/python3.12/site-packages (from pandas) (2.9.0.post0)\n",
      "Requirement already satisfied: pytz>=2020.1 in /home/nikeshgamal/anaconda3/lib/python3.12/site-packages (from pandas) (2024.1)\n",
      "Requirement already satisfied: tzdata>=2022.7 in /home/nikeshgamal/anaconda3/lib/python3.12/site-packages (from pandas) (2023.3)\n",
      "Requirement already satisfied: six>=1.5 in /home/nikeshgamal/anaconda3/lib/python3.12/site-packages (from python-dateutil>=2.8.2->pandas) (1.16.0)\n",
      "Note: you may need to restart the kernel to use updated packages.\n"
     ]
    }
   ],
   "source": [
    "pip install pandas"
   ]
  },
  {
   "cell_type": "code",
   "execution_count": 50,
   "id": "242baf7e",
   "metadata": {},
   "outputs": [
    {
     "name": "stdout",
     "output_type": "stream",
     "text": [
      "Without entering the columns value\n",
      "Original DataFrame\n",
      "   0  1  2  3\n",
      "0  9  9  9  8\n",
      "1  0  7  2  3\n",
      "2  9  5  8  0\n",
      "3  6  6  9  6\n",
      "4  7  7  1  2\n",
      "5  9  4  1  7\n",
      "\n",
      "With entering the columns value\n",
      "DataFrame\n",
      "   A  B  C  D\n",
      "0  0  6  4  1\n",
      "1  5  9  3  6\n",
      "2  5  7  5  6\n",
      "3  3  8  9  3\n",
      "4  4  2  6  1\n",
      "5  3  4  2  3\n",
      "DataFrame with new index:\n",
      "   B  C  D\n",
      "A         \n",
      "0  6  4  1\n",
      "5  9  3  6\n",
      "5  7  5  6\n",
      "3  8  9  3\n",
      "4  2  6  1\n",
      "3  4  2  3\n",
      "Row with index 0:\n",
      "B    6\n",
      "C    4\n",
      "D    1\n",
      "Name: 0, dtype: int64\n"
     ]
    }
   ],
   "source": [
    "# Assignment 1: DataFrame Creation and Indexing\n",
    "import numpy as np\n",
    "import pandas as pd\n",
    "#     Create a Pandas DataFrame with 4 columns and 6 rows filled with random integers. Set the index to be the first column.\n",
    "print(\"Without entering the columns value\")\n",
    "df = pd.DataFrame(np.random.randint(0,10,size=(6,4)))\n",
    "print(\"Original DataFrame\")\n",
    "#  BY default the index will be  0 onwards\n",
    "print(df)\n",
    "\n",
    "\n",
    "print(\"\\nWith entering the columns value\")\n",
    "df = pd.DataFrame(np.random.randint(0,10,size=(6,4)),columns = [\"A\",'B','C','D'])\n",
    "print(\"DataFrame\")\n",
    "#  BY default the index will be  0 onwards\n",
    "print(df)\n",
    "\n",
    "\n",
    "# Set the index to be the first column\n",
    "df.set_index('A', inplace=True)\n",
    "print(\"DataFrame with new index:\")\n",
    "print(df)\n",
    "\n",
    "\n",
    "if 0 in df.index: # check if the index exists.\n",
    "    row_0 = df.loc[0]\n",
    "    print(\"Row with index 0:\")\n",
    "    print(row_0)\n",
    "else:\n",
    "    print(\"0 is not in the index\")"
   ]
  },
  {
   "cell_type": "code",
   "execution_count": 62,
   "id": "2db07bcb-fde8-4d8f-8e6f-938c82b617a3",
   "metadata": {},
   "outputs": [
    {
     "name": "stdout",
     "output_type": "stream",
     "text": [
      "Original DataFrame\n",
      "   A  B  C\n",
      "X  1  2  3\n",
      "Y  4  5  6\n",
      "Z  7  8  9\n",
      "\n",
      "DataFrame after filling with random integrers\n",
      "4\n"
     ]
    }
   ],
   "source": [
    "#     Create a Pandas DataFrame with columns 'A', 'B', 'C' and index 'X', 'Y', 'Z'.\n",
    "#     Fill the DataFrame with random integers and access the element at row 'Y' and column 'B'.\n",
    "df = pd.DataFrame(np.arange(1,10).reshape(3,3), columns = ['A','B','C'], index = ['X','Y','Z'])\n",
    "print('Original DataFrame')\n",
    "print(df)\n",
    "\n",
    "# print(df.loc['Y','B'])\n",
    "df.loc['Y','B'] = np.random.randint(1,5)\n",
    "print('\\nDataFrame after filling with random integrers')\n",
    "print(df.loc['Y','B'])"
   ]
  },
  {
   "cell_type": "code",
   "execution_count": 72,
   "id": "d97a7024-2a7f-4b10-b01c-e79937655b06",
   "metadata": {},
   "outputs": [
    {
     "name": "stdout",
     "output_type": "stream",
     "text": [
      "Original DataFrame\n",
      "    A   B  C\n",
      "0   4   6  9\n",
      "1   6  14  7\n",
      "2  14  11  4\n",
      "3   1  12  6\n",
      "4   4   4  5\n",
      "\n",
      "Adding a new column that is thr product of the first two columns\n",
      "    A   B  C    D\n",
      "0   4   6  9   24\n",
      "1   6  14  7   84\n",
      "2  14  11  4  154\n",
      "3   1  12  6   12\n",
      "4   4   4  5   16\n"
     ]
    }
   ],
   "source": [
    "# Assignment 2: DataFrame Operations\n",
    "\n",
    "#     Create a Pandas DataFrame with 3 columns and 5 rows filled with random integers. \n",
    "#     Add a new column that is the product of the first two columns.\n",
    "df = pd.DataFrame(np.random.randint(1,16,size=(5,3)),columns = ['A','B','C'])\n",
    "print('Original DataFrame')\n",
    "print(df)\n",
    "\n",
    "df['D'] = df['A'] * df['B']\n",
    "print('\\nAdding a new column that is thr product of the first two columns')\n",
    "print(df)"
   ]
  },
  {
   "cell_type": "code",
   "execution_count": 84,
   "id": "6b36fc96-ed2e-4cef-9c92-740509e77f98",
   "metadata": {},
   "outputs": [
    {
     "name": "stdout",
     "output_type": "stream",
     "text": [
      "Original DataFrame\n",
      "    A   B  C\n",
      "V   9   1  9\n",
      "W   2  12  1\n",
      "X   8   6  8\n",
      "Y  10   7  3\n",
      "\n",
      "Sum Row wise\n",
      "V    19\n",
      "W    15\n",
      "X    22\n",
      "Y    20\n",
      "dtype: int64\n",
      "\n",
      "Sum COlumn\n",
      "A    29\n",
      "B    26\n",
      "C    21\n",
      "dtype: int64\n"
     ]
    }
   ],
   "source": [
    "#     Create a Pandas DataFrame with 3 columns and 4 rows filled with random integers. Compute the row-wise and column-wise sum.\n",
    "df = pd.DataFrame(np.random.randint(1,13,size=(4,3)), columns = ['A','B','C'], index = ['V','W','X','Y'])\n",
    "print('Original DataFrame')\n",
    "print(df)\n",
    "\n",
    "#  for row wise sum put axis = 1\n",
    "print('\\nSum Row wise')\n",
    "col_sum = df.sum(axis = 1)\n",
    "print(col_sum)\n",
    "\n",
    "#  for column wise sum put axis = 0\n",
    "print('\\nSum COlumn')\n",
    "row_sum = df.sum(axis = 0)\n",
    "print(row_sum)"
   ]
  },
  {
   "cell_type": "code",
   "execution_count": 90,
   "id": "4831796e-16f9-41b0-88ad-6c9fc2dab6bc",
   "metadata": {},
   "outputs": [
    {
     "name": "stdout",
     "output_type": "stream",
     "text": [
      "  Category Value\n",
      "0        A     3\n",
      "1        B     5\n",
      "2        C     2\n"
     ]
    }
   ],
   "source": [
    "# Assignment 4: Data Aggregation\n",
    "\n",
    "#     Create a Pandas DataFrame with 2 columns: 'Category' and 'Value'.\n",
    "#     Fill the 'Category' column with random categories ('A', 'B', 'C') and the 'Value' column with random integers.\n",
    "#     Group the DataFrame by 'Category' and compute the sum and mean of 'Value' for each category.\n",
    "dataframe = {\n",
    "    'Category' :np.random.choice(['A','B']),\n",
    "    'Value' :['3','5','2']\n",
    "}\n",
    "df = pd.DataFrame(dataframe)"
   ]
  },
  {
   "cell_type": "code",
   "execution_count": 88,
   "id": "1eb5a14a-ee33-44aa-8776-fcafaff0c9d4",
   "metadata": {},
   "outputs": [],
   "source": [
    "#     Create a Pandas DataFrame with 3 columns: 'Product', 'Category', and 'Sales'.\n",
    "#     Fill the DataFrame with random data. Group the DataFrame by 'Category' and compute the total sales for each category.\n"
   ]
  },
  {
   "cell_type": "code",
   "execution_count": null,
   "id": "21e19feb-b9d5-4443-a29f-e4733c39a4b3",
   "metadata": {},
   "outputs": [],
   "source": []
  },
  {
   "cell_type": "code",
   "execution_count": null,
   "id": "c8640c2d-e018-4b7e-8ff1-5ff2e3c48ebf",
   "metadata": {},
   "outputs": [],
   "source": []
  },
  {
   "cell_type": "code",
   "execution_count": null,
   "id": "859e53b3-d1e8-46db-9fd7-c441eb669d41",
   "metadata": {},
   "outputs": [],
   "source": []
  },
  {
   "cell_type": "code",
   "execution_count": null,
   "id": "10347d25-3d17-447b-b9c5-2dcdee9474e2",
   "metadata": {},
   "outputs": [],
   "source": []
  },
  {
   "cell_type": "code",
   "execution_count": null,
   "id": "6265c55d-0195-4075-b689-d199a099e547",
   "metadata": {},
   "outputs": [],
   "source": []
  },
  {
   "cell_type": "code",
   "execution_count": null,
   "id": "e247195d-4606-4185-9a39-673982e85a31",
   "metadata": {},
   "outputs": [],
   "source": []
  },
  {
   "cell_type": "code",
   "execution_count": null,
   "id": "3cbfe772-9174-4039-a276-d4442f01859d",
   "metadata": {},
   "outputs": [],
   "source": []
  },
  {
   "cell_type": "code",
   "execution_count": null,
   "id": "47ccc0c5-ee79-4c53-adf5-111c3246523f",
   "metadata": {},
   "outputs": [],
   "source": []
  }
 ],
 "metadata": {
  "kernelspec": {
   "display_name": "Python [conda env:base] *",
   "language": "python",
   "name": "conda-base-py"
  },
  "language_info": {
   "codemirror_mode": {
    "name": "ipython",
    "version": 3
   },
   "file_extension": ".py",
   "mimetype": "text/x-python",
   "name": "python",
   "nbconvert_exporter": "python",
   "pygments_lexer": "ipython3",
   "version": "3.12.2"
  }
 },
 "nbformat": 4,
 "nbformat_minor": 5
}
