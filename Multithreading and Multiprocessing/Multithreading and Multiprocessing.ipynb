{
 "cells": [
  {
   "cell_type": "markdown",
   "id": "b04dbdb5-f689-463e-9ddd-bfd7b84a9979",
   "metadata": {},
   "source": [
    "### Multi Threading"
   ]
  },
  {
   "cell_type": "code",
   "execution_count": 18,
   "id": "e359e3b9-615d-40aa-b0f0-fee4f7d3e296",
   "metadata": {},
   "outputs": [
    {
     "name": "stdout",
     "output_type": "stream",
     "text": [
      "Number : 0\n",
      "Number : 1\n",
      "Number : 2\n",
      "Number : 3\n",
      "Number : 4\n",
      "Letter : a\n",
      "Letter : b\n",
      "Letter : c\n",
      "Letter : d\n",
      "Letter : e\n",
      "Finished Time: 2.0050690174102783\n"
     ]
    }
   ],
   "source": [
    "import threading\n",
    "import time \n",
    "\n",
    "def print_numbers():\n",
    "    time.sleep(2)\n",
    "    for i in range(5):\n",
    "        print(f'Number : {i}')\n",
    "\n",
    "\n",
    "def print_letters():\n",
    "    time.sleep(2)\n",
    "    for letter in 'abcde':\n",
    "        print(f'Letter : {letter}')\n",
    "\n",
    "\n",
    "# create 2 threads using threading \n",
    "t1 = threading.Thread(target = print_numbers)\n",
    "t2 = threading.Thread(target = print_letters)\n",
    "t = time.time()\n",
    "#start the thread\n",
    "t1.start()\n",
    "t2.start()\n",
    "\n",
    "\n",
    "# wait the threads to complete\n",
    "t1.join()\n",
    "t2.join()\n",
    "print(f\"Finished Time: {time.time() - t}\")"
   ]
  },
  {
   "cell_type": "markdown",
   "id": "3b7a7fb0-6193-4ed0-b1ee-3d778c47653c",
   "metadata": {},
   "source": [
    "### Multi Processing"
   ]
  },
  {
   "cell_type": "code",
   "execution_count": 20,
   "id": "72925d1a-984c-4a21-854e-bc5a1fc490fa",
   "metadata": {},
   "outputs": [
    {
     "name": "stdout",
     "output_type": "stream",
     "text": [
      "Number : 0\n",
      "Letter : aNumber : 1\n",
      "\n",
      "Letter : b\n",
      "Number : 2Letter : c\n",
      "\n",
      "Number : 3Letter : d\n",
      "\n",
      "Letter : e\n",
      "Number : 4\n",
      "Finished Time: 2.0904242992401123\n"
     ]
    }
   ],
   "source": [
    "import multiprocessing\n",
    "import time \n",
    "\n",
    "def print_numbers():\n",
    "    time.sleep(2)\n",
    "    for i in range(5):\n",
    "        print(f'Number : {i}')\n",
    "\n",
    "\n",
    "def print_letters():\n",
    "    time.sleep(2)\n",
    "    for letter in 'abcde':\n",
    "        print(f'Letter : {letter}')\n",
    "\n",
    "\n",
    "# create 2 Process using multiprocessing \n",
    "p1 = multiprocessing.Process(target = print_numbers)\n",
    "p2 = multiprocessing.Process(target = print_letters)\n",
    "t = time.time()\n",
    "#start the thread\n",
    "p1.start()\n",
    "p2.start()\n",
    "\n",
    "\n",
    "# wait the threads to complete\n",
    "p1.join()\n",
    "p2.join()\n",
    "print(f\"Finished Time: {time.time() - t}\")"
   ]
  },
  {
   "cell_type": "markdown",
   "id": "48e65096-47de-46e2-84a7-e65a23758efa",
   "metadata": {},
   "source": [
    "### Multi Threading Using ThreadPoolExecutor"
   ]
  },
  {
   "cell_type": "code",
   "execution_count": 38,
   "id": "7cdf6ef6-94c8-4257-9776-69a87ceb106c",
   "metadata": {},
   "outputs": [
    {
     "name": "stdout",
     "output_type": "stream",
     "text": [
      "Number: 1\n",
      "Number: 2\n",
      "Number: 3\n",
      "Number: 4\n",
      "Number: 5\n",
      "Number: 6\n",
      "Finished Time: 390.7678499221802\n"
     ]
    }
   ],
   "source": [
    "from concurrent.futures import ThreadPoolExecutor\n",
    "import time \n",
    "\n",
    "def print_number(number):\n",
    "    time.sleep(1)\n",
    "    return f\"Number: {number}\"\n",
    "\n",
    "numbers = [1,2,3,4,5,6]\n",
    "\n",
    "with ThreadPoolExecutor() as executor:\n",
    "    results = executor.map(print_number,numbers)\n",
    "    \n",
    "for result in results:\n",
    "    print(result)\n",
    "\n",
    "print(f\"Finished Time: {time.time() - t}\")"
   ]
  },
  {
   "cell_type": "markdown",
   "id": "e94c1b7d-d4f5-4fb6-9f74-9723a5ba0efb",
   "metadata": {},
   "source": [
    "### Multi Processing using ProcessPoolExecutor"
   ]
  },
  {
   "cell_type": "code",
   "execution_count": 43,
   "id": "77477241-4d16-43ae-8089-f663c0560c51",
   "metadata": {},
   "outputs": [
    {
     "name": "stdout",
     "output_type": "stream",
     "text": [
      "Number: 1\n",
      "Number: 2\n",
      "Number: 3\n",
      "Number: 4\n",
      "Number: 5\n",
      "Number: 6\n",
      "Finished Time: 609.5420377254486\n"
     ]
    }
   ],
   "source": [
    "from concurrent.futures import ProcessPoolExecutor\n",
    "import time \n",
    "\n",
    "def print_number(number):\n",
    "    time.sleep(1)\n",
    "    return f\"Number: {number}\"\n",
    "\n",
    "numbers = [1,2,3,4,5,6]\n",
    "\n",
    "with ProcessPoolExecutor() as executor:\n",
    "    results = executor.map(print_number,numbers)\n",
    "    \n",
    "for result in results:\n",
    "    print(result)\n",
    "\n",
    "print(f\"Finished Time: {time.time() - t}\")"
   ]
  },
  {
   "cell_type": "code",
   "execution_count": null,
   "id": "3e79e7ad-7965-43bc-a0b7-f336c2e3d56e",
   "metadata": {},
   "outputs": [],
   "source": []
  }
 ],
 "metadata": {
  "kernelspec": {
   "display_name": "Python [conda env:base] *",
   "language": "python",
   "name": "conda-base-py"
  },
  "language_info": {
   "codemirror_mode": {
    "name": "ipython",
    "version": 3
   },
   "file_extension": ".py",
   "mimetype": "text/x-python",
   "name": "python",
   "nbconvert_exporter": "python",
   "pygments_lexer": "ipython3",
   "version": "3.12.2"
  }
 },
 "nbformat": 4,
 "nbformat_minor": 5
}
