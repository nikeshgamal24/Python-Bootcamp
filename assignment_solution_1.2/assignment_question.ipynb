{
 "cells": [
  {
   "cell_type": "markdown",
   "metadata": {},
   "source": [
    "# Lesson 1.2: Python Basics\n",
    "## Topics Covered:\n",
    "- Syntax and Semantics\n",
    "- Variables and Data Types\n",
    "- Basic Operators (Arithmetic, Comparison, Logical)\n"
   ]
  },
  {
   "cell_type": "markdown",
   "metadata": {},
   "source": [
    "## 1. Syntax and Semantics\n",
    "\n",
    "**Question 1:** Write a Python program to print \"Hello, World!\"."
   ]
  },
  {
   "cell_type": "code",
   "execution_count": 1,
   "metadata": {},
   "outputs": [
    {
     "name": "stdout",
     "output_type": "stream",
     "text": [
      "Hello, World!\n"
     ]
    }
   ],
   "source": [
    "# Your code here\n",
    "print(\"Hello, World!\")"
   ]
  },
  {
   "cell_type": "markdown",
   "metadata": {},
   "source": [
    "**Question 2:** Write a Python program that takes a user input and prints it."
   ]
  },
  {
   "cell_type": "code",
   "execution_count": null,
   "metadata": {},
   "outputs": [],
   "source": [
    "# Your code here\n",
    "user_name = input('Enter Your Name: ')\n",
    "print(f\"Name of the user: {user_name}\")"
   ]
  },
  {
   "cell_type": "markdown",
   "metadata": {},
   "source": [
    "**Question 3:** Write a Python program to check if a number is positive, negative, or zero."
   ]
  },
  {
   "cell_type": "code",
   "execution_count": 1,
   "metadata": {},
   "outputs": [
    {
     "name": "stdin",
     "output_type": "stream",
     "text": [
      "Enter your name:  5\n"
     ]
    },
    {
     "name": "stdout",
     "output_type": "stream",
     "text": [
      "Number is Positive\n"
     ]
    }
   ],
   "source": [
    "# Your code here\n",
    "num = float(input('Enter a number: '))\n",
    "if num > 0:\n",
    "    print('Number is Positive')\n",
    "elif num == 0:\n",
    "    print('Number is zero')\n",
    "else:\n",
    "    print('Number is Negative')"
   ]
  },
  {
   "cell_type": "markdown",
   "metadata": {},
   "source": [
    "**Question 4:** Write a Python program to find the largest of three numbers."
   ]
  },
  {
   "cell_type": "code",
   "execution_count": 7,
   "metadata": {},
   "outputs": [
    {
     "name": "stdin",
     "output_type": "stream",
     "text": [
      "Enter 1st number:  5\n",
      "Enter 2nd number:  4\n",
      "Enter 3rd number:  6\n"
     ]
    },
    {
     "name": "stdout",
     "output_type": "stream",
     "text": [
      "6.0  is largest of three numbers\n"
     ]
    }
   ],
   "source": [
    "# Your code here\n",
    "num1 = float(input('Enter 1st number: '))\n",
    "num2 = float(input('Enter 2nd number: '))\n",
    "num3 = float(input('Enter 3rd number: '))\n",
    "if num1 > num2 and num1 > num3:\n",
    "    print(num1 ,\" is largest of three numbers\")\n",
    "elif num2 > num3 and num2 > num1:\n",
    "    print(num2 ,\" is largest of three numbers\")\n",
    "else:\n",
    "    print(num3 ,\" is largest of three numbers\")"
   ]
  },
  {
   "cell_type": "markdown",
   "metadata": {},
   "source": [
    "**Question 5:** Write a Python program to calculate the factorial of a number."
   ]
  },
  {
   "cell_type": "code",
   "execution_count": 13,
   "metadata": {},
   "outputs": [
    {
     "name": "stdin",
     "output_type": "stream",
     "text": [
      "Enter a number:  6\n"
     ]
    },
    {
     "name": "stdout",
     "output_type": "stream",
     "text": [
      "120\n"
     ]
    }
   ],
   "source": [
    "# Your code here\n",
    "num = int(input('Enter a number: '))\n",
    "factorial = 1\n",
    "for num in range(1,num):\n",
    "    factorial *= num\n",
    "print(factorial)"
   ]
  },
  {
   "cell_type": "markdown",
   "metadata": {},
   "source": [
    "## 2. Variables and Data Types\n",
    "\n",
    "**Question 6:** Create variables of different data types: integer, float, string, and boolean. Print their values and types."
   ]
  },
  {
   "cell_type": "code",
   "execution_count": 15,
   "metadata": {},
   "outputs": [
    {
     "name": "stdin",
     "output_type": "stream",
     "text": [
      "Enter a integer number:  5\n",
      "Enter a floating number:  9.35\n",
      "Enter a string:  Nikesh\n"
     ]
    },
    {
     "name": "stdout",
     "output_type": "stream",
     "text": [
      "5\n",
      "<class 'int'>\n",
      "9.35\n",
      "<class 'float'>\n",
      "Nikesh\n",
      "<class 'str'>\n",
      "False\n",
      "<class 'bool'>\n"
     ]
    }
   ],
   "source": [
    "# Your code here\n",
    "num1 = int(input('Enter a integer number: '))\n",
    "num2  = float(input('Enter a floating number: '))\n",
    "name = input('Enter a string: ')\n",
    "is_equal = 4==3\n",
    "\n",
    "print(num1)\n",
    "print(type(num1))\n",
    "print(num2)\n",
    "print(type(num2))\n",
    "print(name)\n",
    "print(type(name))\n",
    "print(is_equal)\n",
    "print(type(is_equal))"
   ]
  },
  {
   "cell_type": "markdown",
   "metadata": {},
   "source": [
    "**Question 7:** Write a Python program to swap the values of two variables."
   ]
  },
  {
   "cell_type": "code",
   "execution_count": 86,
   "metadata": {},
   "outputs": [
    {
     "name": "stdout",
     "output_type": "stream",
     "text": [
      "Before Swapping\n",
      "num1:  5\n",
      "num2:  6\n",
      "After Swapping\n",
      "num1:  6\n",
      "num2:  5\n"
     ]
    }
   ],
   "source": [
    "# Your code here\n",
    "num1 = 5\n",
    "num2 = 6\n",
    "print('Before Swapping')\n",
    "print('num1: ',num1)\n",
    "print('num2: ',num2)\n",
    "temp = num1\n",
    "num1 = num2\n",
    "num2 = temp\n",
    "print('After Swapping')\n",
    "print('num1: ',num1)\n",
    "print('num2: ',num2)"
   ]
  },
  {
   "cell_type": "markdown",
   "metadata": {},
   "source": [
    "**Question 8:** Write a Python program to convert Celsius to Fahrenheit."
   ]
  },
  {
   "cell_type": "code",
   "execution_count": 17,
   "metadata": {},
   "outputs": [
    {
     "name": "stdin",
     "output_type": "stream",
     "text": [
      "Enter value in degree celsius:  36\n"
     ]
    },
    {
     "name": "stdout",
     "output_type": "stream",
     "text": [
      "96.8 degree fahrenheit\n"
     ]
    }
   ],
   "source": [
    "# Your code here\n",
    "degree_celsius = float(input('Enter value in degree celsius: '))\n",
    "degree_fahrenheit = degree_celsius * (9/5) + 32\n",
    "print(degree_fahrenheit, \"degree fahrenheit\")"
   ]
  },
  {
   "cell_type": "markdown",
   "metadata": {},
   "source": [
    "**Question 9:** Write a Python program to concatenate two strings."
   ]
  },
  {
   "cell_type": "code",
   "execution_count": 21,
   "metadata": {},
   "outputs": [
    {
     "name": "stdin",
     "output_type": "stream",
     "text": [
      "Enter 1st string value:  nikesh\n",
      "Enter 2nd string value:  gamal\n"
     ]
    },
    {
     "name": "stdout",
     "output_type": "stream",
     "text": [
      "Concatenation of two strings\n",
      "nikeshgamal\n"
     ]
    }
   ],
   "source": [
    "# Your code here\n",
    "string1 = input('Enter 1st string value: ')\n",
    "string2 = input('Enter 2nd string value: ')\n",
    "print('Concatenation of two strings')\n",
    "print(string1 + string2)"
   ]
  },
  {
   "cell_type": "markdown",
   "metadata": {},
   "source": [
    "**Question 10:** Write a Python program to check if a variable is of a specific data type."
   ]
  },
  {
   "cell_type": "code",
   "execution_count": 23,
   "metadata": {},
   "outputs": [
    {
     "name": "stdin",
     "output_type": "stream",
     "text": [
      "Enter an integer number:  5\n",
      "Enter a floating point number:  3.95\n"
     ]
    },
    {
     "name": "stdout",
     "output_type": "stream",
     "text": [
      "True\n",
      "False\n"
     ]
    }
   ],
   "source": [
    "# Your code here\n",
    "num1 = int(input('Enter an integer number: '))\n",
    "num2 = float(input('Enter a floating point number: '))\n",
    "# variable_type = type(num1)\n",
    "# print(variable_type)\n",
    "is_int1 = type(num1) is  int\n",
    "is_int2 = type(num2) is  int\n",
    "print(is_int1)\n",
    "print(is_int2)"
   ]
  },
  {
   "cell_type": "markdown",
   "metadata": {},
   "source": [
    "## 3. Basic Operators (Arithmetic, Comparison, Logical)\n",
    "\n",
    "**Question 11:** Write a Python program to perform arithmetic operations: addition, subtraction, multiplication, and division."
   ]
  },
  {
   "cell_type": "code",
   "execution_count": 25,
   "metadata": {},
   "outputs": [
    {
     "name": "stdin",
     "output_type": "stream",
     "text": [
      "Enter 1st integer number:  5\n",
      "Enter 2nd integer number:  8\n"
     ]
    },
    {
     "name": "stdout",
     "output_type": "stream",
     "text": [
      "Addition of two numbers:  13\n",
      "Subtraction of two numbers:  3\n",
      "Division of two numbers:  0.625\n",
      "Multiplication of two numbers:  40\n"
     ]
    }
   ],
   "source": [
    "# Your code here\n",
    "num1 = int(input('Enter 1st integer number: '))\n",
    "num2 = int(input('Enter 2nd integer number: '))\n",
    "addition = num1 + num2\n",
    "subtraction = num1 - 2\n",
    "division = num1 / num2\n",
    "multiplication = num1 * num2\n",
    "\n",
    "print('Addition of two numbers: ', addition)\n",
    "print('Subtraction of two numbers: ', subtraction)\n",
    "print('Division of two numbers: ', division)\n",
    "print('Multiplication of two numbers: ', multiplication)"
   ]
  },
  {
   "cell_type": "markdown",
   "metadata": {},
   "source": [
    "**Question 12:** Write a Python program to demonstrate comparison operators: equal to, not equal to, greater than, less than."
   ]
  },
  {
   "cell_type": "code",
   "execution_count": 27,
   "metadata": {},
   "outputs": [
    {
     "name": "stdin",
     "output_type": "stream",
     "text": [
      "Enter 1st integer number:  59\n",
      "Enter 2nd integer number:  52\n"
     ]
    },
    {
     "name": "stdout",
     "output_type": "stream",
     "text": [
      "The two numbers are not equal\n",
      "59 is greater than 52\n"
     ]
    }
   ],
   "source": [
    "# Your code here\n",
    "num1 = int(input('Enter 1st integer number: '))\n",
    "num2 = int(input('Enter 2nd integer number: '))\n",
    "if num1 > num2:\n",
    "    print(\"The two numbers are not equal\")\n",
    "    print(num1,\"is greater than\",num2)\n",
    "elif num1 < num2:\n",
    "    print(\"The two numbers are not equal\")\n",
    "    print(num1,\"is less than\",num2)\n",
    "else:\n",
    "   print(\"The two numbers are equal\") \n",
    "\n"
   ]
  },
  {
   "cell_type": "markdown",
   "metadata": {},
   "source": [
    "**Question 13:** Write a Python program to demonstrate logical operators: and, or, not."
   ]
  },
  {
   "cell_type": "code",
   "execution_count": 29,
   "metadata": {},
   "outputs": [
    {
     "name": "stdin",
     "output_type": "stream",
     "text": [
      "Enter your age:  25\n"
     ]
    },
    {
     "name": "stdout",
     "output_type": "stream",
     "text": [
      "Active age group\n",
      "status: True\n",
      "Alter status: False\n"
     ]
    }
   ],
   "source": [
    "# Your code here\n",
    "age = int(input('Enter your age: '))\n",
    "if age >= 18 and age <= 60:\n",
    "    print(\"Active age group\")\n",
    "if age < 18 or age > 60:\n",
    "    print(\"Inactive age group\")\n",
    "status = True\n",
    "print(\"status:\", status)\n",
    "print(\"Alter status:\", not status)\n"
   ]
  },
  {
   "cell_type": "markdown",
   "metadata": {},
   "source": [
    "**Question 14:** Write a Python program to calculate the square of a number."
   ]
  },
  {
   "cell_type": "code",
   "execution_count": 35,
   "metadata": {},
   "outputs": [
    {
     "name": "stdin",
     "output_type": "stream",
     "text": [
      "Enter a number:  8\n"
     ]
    },
    {
     "name": "stdout",
     "output_type": "stream",
     "text": [
      "Square number of  8 : 64\n"
     ]
    }
   ],
   "source": [
    "# Your code here\n",
    "num = int(input('Enter a number: '))\n",
    "square_num = num**2\n",
    "print('Square number of ',num ,':',square_num)"
   ]
  },
  {
   "cell_type": "markdown",
   "metadata": {},
   "source": [
    "**Question 15:** Write a Python program to check if a number is even or odd."
   ]
  },
  {
   "cell_type": "code",
   "execution_count": 37,
   "metadata": {},
   "outputs": [
    {
     "name": "stdin",
     "output_type": "stream",
     "text": [
      "Enter an integer number:  654285\n"
     ]
    },
    {
     "name": "stdout",
     "output_type": "stream",
     "text": [
      "654285 is an odd number\n"
     ]
    }
   ],
   "source": [
    "# Your code here\n",
    "num = int(input('Enter an integer number: '))\n",
    "if num % 2 == 0:\n",
    "    print(num, \"is an even number\")\n",
    "elif num % 2 == 1:\n",
    "    print(num, \"is an odd number\")"
   ]
  },
  {
   "cell_type": "markdown",
   "metadata": {},
   "source": [
    "**Question 16:** Write a Python program to find the sum of the first n natural numbers."
   ]
  },
  {
   "cell_type": "code",
   "execution_count": 39,
   "metadata": {},
   "outputs": [
    {
     "name": "stdin",
     "output_type": "stream",
     "text": [
      "Enter an integer number:  8\n"
     ]
    },
    {
     "name": "stdout",
     "output_type": "stream",
     "text": [
      "[1, 2, 3, 4, 5, 6, 7, 8]\n",
      "Sum of natural number: 36\n"
     ]
    }
   ],
   "source": [
    "# Your code here\n",
    "num = int(input('Enter an integer number: '))\n",
    "sum_natural = 0\n",
    "list_num = list(range(1,num+1))\n",
    "print(list_num)\n",
    "for num in range(1,num +1):\n",
    "    sum_natural += num\n",
    "    # print(sum_natural)\n",
    "    # print(num)\n",
    "print(\"Sum of natural number:\", sum_natural)"
   ]
  },
  {
   "cell_type": "markdown",
   "metadata": {},
   "source": [
    "**Question 17:** Write a Python program to check if a year is a leap year."
   ]
  },
  {
   "cell_type": "code",
   "execution_count": 234,
   "metadata": {},
   "outputs": [
    {
     "name": "stdin",
     "output_type": "stream",
     "text": [
      "Enter a year:  2024\n"
     ]
    },
    {
     "name": "stdout",
     "output_type": "stream",
     "text": [
      "2024 is a leap year.\n"
     ]
    }
   ],
   "source": [
    "# Your code here\n",
    "# Solution\n",
    "year = int(input(\"Enter a year: \"))\n",
    "if (year % 4 == 0 and year % 100 != 0) or (year % 400 == 0):\n",
    "    print(f\"{year} is a leap year.\")\n",
    "else:\n",
    "    print(f\"{year} is not a leap year.\")"
   ]
  },
  {
   "cell_type": "markdown",
   "metadata": {},
   "source": [
    "**Question 18:** Write a Python program to reverse a string."
   ]
  },
  {
   "cell_type": "code",
   "execution_count": 196,
   "metadata": {},
   "outputs": [
    {
     "data": {
      "text/plain": [
       "'hsekin'"
      ]
     },
     "execution_count": 196,
     "metadata": {},
     "output_type": "execute_result"
    }
   ],
   "source": [
    "# Your code here\n",
    "name = \"nikesh\"\n",
    "name[::-1]"
   ]
  },
  {
   "cell_type": "markdown",
   "metadata": {},
   "source": [
    "**Question 19:** Write a Python program to check if a string is a palindrome."
   ]
  },
  {
   "cell_type": "code",
   "execution_count": 45,
   "metadata": {},
   "outputs": [
    {
     "name": "stdin",
     "output_type": "stream",
     "text": [
      "Enter a string:  eye\n"
     ]
    },
    {
     "name": "stdout",
     "output_type": "stream",
     "text": [
      "String is palindrome\n"
     ]
    }
   ],
   "source": [
    "# Your code here\n",
    "string = input('Enter a string: ')\n",
    "reverse_string = string[::-1]\n",
    "\n",
    "if string == reverse_string:\n",
    "    print('String is palindrome')\n",
    "else:\n",
    "    print('String is not palindrome')"
   ]
  },
  {
   "cell_type": "markdown",
   "metadata": {},
   "source": [
    "**Question 20:** Write a Python program to sort a list of numbers in ascending order."
   ]
  },
  {
   "cell_type": "code",
   "execution_count": 47,
   "metadata": {},
   "outputs": [
    {
     "name": "stdout",
     "output_type": "stream",
     "text": [
      "[2, 3, 5, 6, 7, 8]\n"
     ]
    }
   ],
   "source": [
    "# Your code here\n",
    "list_num = [6,3,7,2,8,5]\n",
    "list_num.sort()\n",
    "print(list_num)"
   ]
  }
 ],
 "metadata": {
  "kernelspec": {
   "display_name": "Python [conda env:base] *",
   "language": "python",
   "name": "conda-base-py"
  },
  "language_info": {
   "codemirror_mode": {
    "name": "ipython",
    "version": 3
   },
   "file_extension": ".py",
   "mimetype": "text/x-python",
   "name": "python",
   "nbconvert_exporter": "python",
   "pygments_lexer": "ipython3",
   "version": "3.12.2"
  }
 },
 "nbformat": 4,
 "nbformat_minor": 4
}
