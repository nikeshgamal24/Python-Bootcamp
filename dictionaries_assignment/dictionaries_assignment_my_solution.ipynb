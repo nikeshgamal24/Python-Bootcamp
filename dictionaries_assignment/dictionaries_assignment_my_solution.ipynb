{
 "cells": [
  {
   "cell_type": "markdown",
   "id": "01b8e5a1",
   "metadata": {},
   "source": [
    "# Module 3: Data Structures Assignments\n",
    "## Lesson 3.4: Dictionaries\n",
    "### Assignment 1: Creating and Accessing Dictionaries\n",
    "\n",
    "Create a dictionary with the first 10 positive integers as keys and their squares as values. Print the dictionary.\n",
    "\n",
    "### Assignment 2: Accessing Dictionary Elements\n",
    "\n",
    "Print the value of the key 5 and the keys of the dictionary created in Assignment 1.\n",
    "\n",
    "### Assignment 3: Dictionary Methods\n",
    "\n",
    "Add a new key-value pair (11, 121) to the dictionary created in Assignment 1 and then remove the key-value pair with key 1. Print the modified dictionary.\n",
    "\n",
    "### Assignment 4: Iterating Over Dictionaries\n",
    "\n",
    "Iterate over the dictionary created in Assignment 1 and print each key-value pair.\n",
    "\n",
    "### Assignment 5: Dictionary Comprehensions\n",
    "\n",
    "Create a new dictionary containing the cubes of the first 10 positive integers using a dictionary comprehension. Print the new dictionary.\n",
    "\n",
    "### Assignment 6: Merging Dictionaries\n",
    "\n",
    "Create two dictionaries: one with keys as the first 5 positive integers and values as their squares, and another with keys as the next 5 positive integers and values as their squares. Merge these dictionaries into a single dictionary and print it.\n",
    "\n",
    "### Assignment 7: Nested Dictionaries\n",
    "\n",
    "Create a nested dictionary representing a student with keys 'name', 'age', 'grades', where 'grades' is another dictionary with keys 'math', 'science', and 'english'. Print the nested dictionary.\n",
    "\n",
    "### Assignment 8: Dictionary of Lists\n",
    "\n",
    "Create a dictionary where the keys are the first 5 positive integers and the values are lists containing the first 5 multiples of the key. Print the dictionary.\n",
    "\n",
    "### Assignment 9: Dictionary of Tuples\n",
    "\n",
    "Create a dictionary where the keys are the first 5 positive integers and the values are tuples containing the key and its square. Print the dictionary.\n",
    "\n",
    "### Assignment 10: Dictionary and List Conversion\n",
    "\n",
    "Create a dictionary with the first 5 positive integers as keys and their squares as values. Convert the dictionary to a list of tuples and print it.\n",
    "\n",
    "### Assignment 11: Dictionary Filtering\n",
    "\n",
    "Create a dictionary with the first 10 positive integers as keys and their squares as values. Create a new dictionary containing only the key-value pairs where the key is even. Print the new dictionary.\n",
    "\n",
    "### Assignment 12: Dictionary Key and Value Transformation\n",
    "\n",
    "Create a dictionary with the first 5 positive integers as keys and their squares as values. Create a new dictionary with keys and values swapped. Print the new dictionary.\n",
    "\n",
    "### Assignment 13: Default Dictionary\n",
    "\n",
    "Create a default dictionary where each key has a default value of an empty list. Add some elements to the lists and print the dictionary.\n",
    "\n",
    "### Assignment 14: Counting with Dictionaries\n",
    "\n",
    "Write a function that takes a string and returns a dictionary with the count of each character in the string. Print the dictionary.\n",
    "\n",
    "### Assignment 15: Dictionary and JSON\n",
    "\n",
    "Create a dictionary representing a book with keys 'title', 'author', 'year', and 'genre'. Convert the dictionary to a JSON string and print it."
   ]
  },
  {
   "cell_type": "code",
   "execution_count": 17,
   "id": "b37d9117",
   "metadata": {},
   "outputs": [
    {
     "name": "stdout",
     "output_type": "stream",
     "text": [
      "{1: 1, 2: 4, 3: 9, 4: 16, 5: 25, 6: 36, 7: 49, 8: 64, 9: 81, 10: 100}\n"
     ]
    }
   ],
   "source": [
    "# Assignment 1: Creating and Accessing Dictionaries\n",
    "\n",
    "# Create a dictionary with the first 10 positive integers as keys and their squares as values. Print the dictionary.\n",
    "square_numbers = {num:num**2 for num in range(1,11)}\n",
    "print(square_numbers)"
   ]
  },
  {
   "cell_type": "code",
   "execution_count": 19,
   "id": "a3a8ea2a-13ac-4d95-b22a-b1e82065baa3",
   "metadata": {},
   "outputs": [
    {
     "name": "stdout",
     "output_type": "stream",
     "text": [
      "25\n"
     ]
    }
   ],
   "source": [
    "# Assignment 2: Accessing Dictionary Elements¶\n",
    "\n",
    "# Print the value of the key 5 and the keys of the dictionary created in Assignment 1.\n",
    "print(square_numbers[5])"
   ]
  },
  {
   "cell_type": "code",
   "execution_count": 27,
   "id": "6c3ba22a-6deb-4f44-89cd-4653f0f2ae1d",
   "metadata": {},
   "outputs": [
    {
     "name": "stdout",
     "output_type": "stream",
     "text": [
      "{1: 1, 2: 4, 3: 9, 4: 16, 5: 25, 6: 36, 7: 49, 8: 64, 9: 81, 10: 100, 11: 121}\n",
      "{2: 4, 3: 9, 4: 16, 5: 25, 6: 36, 7: 49, 8: 64, 9: 81, 10: 100, 11: 121}\n"
     ]
    }
   ],
   "source": [
    "# Assignment 3: Dictionary Methods\n",
    "\n",
    "# Add a new key-value pair (11, 121) to the dictionary created in Assignment 1 and \n",
    "# then remove the key-value pair with key 1. Print the modified dictionary.\n",
    "square_numbers[11] = 121\n",
    "print(square_numbers)\n",
    "\n",
    "square_numbers.pop(1)\n",
    "print(square_numbers)"
   ]
  },
  {
   "cell_type": "code",
   "execution_count": 31,
   "id": "fc316a92-dcf0-49e3-a070-7c4b7aa61b80",
   "metadata": {},
   "outputs": [
    {
     "name": "stdout",
     "output_type": "stream",
     "text": [
      "2: 4\n",
      "3: 9\n",
      "4: 16\n",
      "5: 25\n",
      "6: 36\n",
      "7: 49\n",
      "8: 64\n",
      "9: 81\n",
      "10: 100\n",
      "11: 121\n"
     ]
    }
   ],
   "source": [
    "# Assignment 4: Iterating Over Dictionaries\n",
    "\n",
    "# Iterate over the dictionary created in Assignment 1 and print each key-value pair.\n",
    "for key,value in square_numbers.items():\n",
    "    print(f'{key}: {value}')"
   ]
  },
  {
   "cell_type": "code",
   "execution_count": 33,
   "id": "ab51948e-73ba-4e74-88a0-9f0ceab45acc",
   "metadata": {},
   "outputs": [
    {
     "name": "stdout",
     "output_type": "stream",
     "text": [
      "{1: 1, 2: 8, 3: 27, 4: 64, 5: 125, 6: 216, 7: 343, 8: 512, 9: 729, 10: 1000}\n"
     ]
    }
   ],
   "source": [
    "# Assignment 5: Dictionary Comprehensions¶\n",
    "\n",
    "# Create a new dictionary containing the cubes of the first 10 positive integers using a dictionary comprehension.\n",
    "# Print the new dictionary.\n",
    "cube_numbers = {num: num**3 for num in range(1,11)}\n",
    "print(cube_numbers)"
   ]
  },
  {
   "cell_type": "code",
   "execution_count": 43,
   "id": "db62a62b-2556-4018-bc90-6b13036a58da",
   "metadata": {},
   "outputs": [
    {
     "name": "stdout",
     "output_type": "stream",
     "text": [
      "square_numbers: {1: 1, 2: 8, 3: 27, 4: 64, 5: 125}\n",
      "square_nubers: {6: 216, 7: 343, 8: 512, 9: 729, 10: 1000}\n",
      "square_numbers: {1: 1, 2: 8, 3: 27, 4: 64, 5: 125, 6: 216, 7: 343, 8: 512, 9: 729, 10: 1000}\n"
     ]
    }
   ],
   "source": [
    "# Assignment 6: Merging Dictionaries\n",
    "\n",
    "# Create two dictionaries: one with keys as the first 5 positive integers and values as their squares,\n",
    "# and another with keys as the next 5 positive integers and values as their squares. \n",
    "# Merge these dictionaries into a single dictionary and print it.\n",
    "\n",
    "square_number1 = {num: num**3 for num in range(1,6)}\n",
    "square_number2 = {num: num**3 for num in range(6,11)}\n",
    "print(f'square_numbers: {square_number1}')\n",
    "print(f'square_nubers: {square_number2}')\n",
    "\n",
    "square_numbers = {**square_number1 , **square_number2}\n",
    "print(f'square_numbers: {square_numbers}')"
   ]
  },
  {
   "cell_type": "code",
   "execution_count": 45,
   "id": "020168b2-c76b-496f-8b9b-74038195f80d",
   "metadata": {},
   "outputs": [
    {
     "name": "stdout",
     "output_type": "stream",
     "text": [
      "{'name': 'Nikesh', 'age': 24, 'grades': {'math': 97, 'science': 96, 'english': 95}}\n"
     ]
    }
   ],
   "source": [
    "# Assignment 7: Nested Dictionaries\n",
    "\n",
    "# Create a nested dictionary representing a student with keys 'name', 'age', 'grades',\n",
    "# where 'grades' is another dictionary with keys 'math', 'science', and 'english'. Print the nested dictionary.\n",
    "student = {\n",
    "    \"name\":\"Nikesh\",\n",
    "    \"age\": 24,\n",
    "    \"grades\":{\n",
    "        \"math\":97,\n",
    "        \"science\":96,\n",
    "        \"english\": 95\n",
    "    }\n",
    "}\n",
    "\n",
    "print(student)"
   ]
  },
  {
   "cell_type": "code",
   "execution_count": null,
   "id": "1a929a06-8f28-4651-941a-4c4a6de20255",
   "metadata": {},
   "outputs": [],
   "source": [
    "# Assignment 8: Dictionary of Lists\n",
    "\n",
    "# Create a dictionary where the keys are the first 5 positive integers and \n",
    "# the values are lists containing the first 5 multiples of the key. Print the dictionary.\n"
   ]
  },
  {
   "cell_type": "code",
   "execution_count": 47,
   "id": "30483ca6-47a4-46f4-8f89-d0cbba609060",
   "metadata": {},
   "outputs": [
    {
     "name": "stdout",
     "output_type": "stream",
     "text": [
      "{1: (1, 1), 2: (2, 4), 3: (3, 9), 4: (4, 16), 5: (5, 25)}\n"
     ]
    }
   ],
   "source": [
    "# Assignment 9: Dictionary of Tuples\n",
    "\n",
    "# Create a dictionary where the keys are the first 5 positive integers \n",
    "# and the values are tuples containing the key and its square. Print the dictionary\n",
    "\n",
    "tuple_dict = {num:(num,num**2) for num in range(1,6)}\n",
    "print(tuple_dict)"
   ]
  },
  {
   "cell_type": "code",
   "execution_count": 57,
   "id": "4abfc40b-f612-46c6-8dd4-a02155c212f0",
   "metadata": {},
   "outputs": [
    {
     "name": "stdout",
     "output_type": "stream",
     "text": [
      "{1: 1, 2: 4, 3: 9, 4: 16, 5: 25}\n",
      "[(1, 1), (2, 4), (3, 9), (4, 16), (5, 25)]\n"
     ]
    }
   ],
   "source": [
    "# Assignment 10: Dictionary and List Conversion\n",
    "\n",
    "# Create a dictionary with the first 5 positive integers as keys and their squares as values.\n",
    "# Convert the dictionary to a list of tuples and print it.\n",
    "\n",
    "dict_numbers = {num: num**2 for num in range(1,6)}\n",
    "print(dict_numbers)\n",
    "tuple_numbers = list(dict_numbers.items())\n",
    "print(tuple_numbers)"
   ]
  },
  {
   "cell_type": "code",
   "execution_count": 63,
   "id": "0fed4c4a-6232-4feb-910c-4382c4760e9d",
   "metadata": {},
   "outputs": [
    {
     "name": "stdout",
     "output_type": "stream",
     "text": [
      "{1: 1, 2: 4, 3: 9, 4: 16, 5: 25, 6: 36, 7: 49, 8: 64, 9: 81, 10: 100}\n",
      "{2: 4, 4: 16, 6: 36, 8: 64, 10: 100}\n"
     ]
    }
   ],
   "source": [
    "# Assignment 11: Dictionary Filtering\n",
    "\n",
    "# Create a dictionary with the first 10 positive integers as keys and their squares as values. \n",
    "# Create a new dictionary containing only the key-value pairs where the key is even. Print the new dictionary.\n",
    "\n",
    "dict1 = {num:num**2 for num in range(1,11)}\n",
    "print(dict1)\n",
    "\n",
    "dict2 = {key:value for key,value in dict1.items() if key %2 == 0}\n",
    "print(dict2)"
   ]
  },
  {
   "cell_type": "code",
   "execution_count": 65,
   "id": "b1a5dbfc-8892-4274-8fcf-e4c945ad2c3f",
   "metadata": {},
   "outputs": [
    {
     "name": "stdout",
     "output_type": "stream",
     "text": [
      "{1: 1, 2: 4, 3: 9, 4: 16, 5: 25, 6: 36, 7: 49, 8: 64, 9: 81, 10: 100}\n",
      "{1: 1, 4: 2, 9: 3, 16: 4, 25: 5, 36: 6, 49: 7, 64: 8, 81: 9, 100: 10}\n"
     ]
    }
   ],
   "source": [
    "# Assignment 12: Dictionary Key and Value Transformation\n",
    "\n",
    "# Create a dictionary with the first 5 positive integers as keys and their squares as values.\n",
    "# Create a new dictionary with keys and values swapped. Print the new dictionary.\n",
    "dict1 = {num:num**2 for num in range(1,11)}\n",
    "print(dict1)\n",
    "\n",
    "dict2 = {value:key for key,value in dict1.items()}\n",
    "print(dict2)"
   ]
  }
 ],
 "metadata": {
  "kernelspec": {
   "display_name": "Python [conda env:base] *",
   "language": "python",
   "name": "conda-base-py"
  },
  "language_info": {
   "codemirror_mode": {
    "name": "ipython",
    "version": 3
   },
   "file_extension": ".py",
   "mimetype": "text/x-python",
   "name": "python",
   "nbconvert_exporter": "python",
   "pygments_lexer": "ipython3",
   "version": "3.12.2"
  }
 },
 "nbformat": 4,
 "nbformat_minor": 5
}
