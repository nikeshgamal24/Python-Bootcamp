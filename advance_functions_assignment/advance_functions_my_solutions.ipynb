{
 "cells": [
  {
   "cell_type": "markdown",
   "id": "4bb5b7c1",
   "metadata": {},
   "source": [
    "# Module 4: Advanced Functions Assignments\n",
    "## Lesson 4.1: Defining Functions\n",
    "### Assignment 1: Fibonacci Sequence with Memoization\n",
    "\n",
    "Define a recursive function to calculate the nth Fibonacci number using memoization. Test the function with different inputs.\n",
    "\n",
    "### Assignment 2: Function with Nested Default Arguments\n",
    "\n",
    "Define a function that takes two arguments, a and b, where b is a dictionary with a default value of an empty dictionary. The function should add a new key-value pair to the dictionary and return it. Test the function with different inputs.\n",
    "\n",
    "### Assignment 3: Function with Variable Keyword Arguments\n",
    "\n",
    "Define a function that takes a variable number of keyword arguments and returns a dictionary containing only those key-value pairs where the value is an integer. Test the function with different inputs.\n",
    "\n",
    "### Assignment 4: Function with Callback\n",
    "\n",
    "Define a function that takes another function as a callback and a list of integers. The function should apply the callback to each integer in the list and return a new list with the results. Test with different callback functions.\n",
    "\n",
    "### Assignment 5: Function that Returns a Function\n",
    "\n",
    "Define a function that returns another function. The returned function should take an integer and return its square. Test the returned function with different inputs.\n",
    "\n",
    "### Assignment 6: Function with Decorators\n",
    "\n",
    "Define a function that calculates the time taken to execute another function. Apply this decorator to a function that performs a complex calculation. Test the decorated function with different inputs.\n",
    "\n",
    "### Assignment 7: Higher-Order Function for Filtering and Mapping\n",
    "\n",
    "Define a higher-order function that takes two functions, a filter function and a map function, along with a list of integers. The higher-order function should first filter the integers using the filter function and then apply the map function to the filtered integers. Test with different filter and map functions.\n",
    "\n",
    "### Assignment 8: Function Composition\n",
    "\n",
    "Define a function that composes two functions, f and g, such that the result is f(g(x)). Test with different functions f and g.\n",
    "\n",
    "### Assignment 9: Partial Function Application\n",
    "\n",
    "Use the functools.partial function to create a new function that multiplies its input by 2. Test the new function with different inputs.\n",
    "\n",
    "### Assignment 10: Function with Error Handling\n",
    "\n",
    "Define a function that takes a list of integers and returns their average. The function should handle any errors that occur (e.g., empty list) and return None in such cases. Test with different inputs.\n",
    "\n",
    "### Assignment 11: Function with Generators\n",
    "\n",
    "Define a function that generates an infinite sequence of Fibonacci numbers. Test by printing the first 10 numbers in the sequence.\n",
    "\n",
    "### Assignment 12: Currying\n",
    "\n",
    "Define a curried function that takes three arguments, one at a time, and returns their product. Test the function by providing arguments one at a time.\n",
    "\n",
    "### Assignment 13: Function with Context Manager\n",
    "\n",
    "Define a function that uses a context manager to write a list of integers to a file. The function should handle any errors that occur during file operations. Test with different lists.\n",
    "\n",
    "### Assignment 14: Function with Multiple Return Types\n",
    "\n",
    "Define a function that takes a list of mixed data types (integers, strings, and floats) and returns three lists: one containing all the integers, one containing all the strings, and one containing all the floats. Test with different inputs.\n",
    "\n",
    "### Assignment 15: Function with State\n",
    "\n",
    "Define a function that maintains state between calls using a mutable default argument. The function should keep track of how many times it has been called. Test by calling the function multiple times."
   ]
  },
  {
   "cell_type": "code",
   "execution_count": 7,
   "id": "70e601e7",
   "metadata": {},
   "outputs": [
    {
     "data": {
      "text/plain": [
       "{1: 1, 3: 9}"
      ]
     },
     "execution_count": 7,
     "metadata": {},
     "output_type": "execute_result"
    }
   ],
   "source": [
    "# Assignment 2: Function with Nested Default Arguments\n",
    "\n",
    "# Define a function that takes two arguments, a and b, where b is a dictionary with a default value of an empty dictionary.\n",
    "# The function should add a new key-value pair to the dictionary and return it. Test the function with different inputs.\n",
    "\n",
    "def add_to_dict(a, b={}):\n",
    "    b[a] = a**2\n",
    "    return b\n",
    "\n",
    "add_to_dict(2)\n",
    "add_to_dict(3,{1:1})"
   ]
  },
  {
   "cell_type": "code",
   "execution_count": 7,
   "id": "6f84bb73-42a5-49e4-babd-e5152c4b173f",
   "metadata": {},
   "outputs": [
    {
     "name": "stdout",
     "output_type": "stream",
     "text": [
      "{'a': 3, 'b': 5}\n"
     ]
    }
   ],
   "source": [
    "# Assignment 3: Function with Variable Keyword Arguments\n",
    "\n",
    "# Define a function that takes a variable number of keyword arguments and \n",
    "# returns a dictionary containing only those key-value pairs where the value is an integer. Test the function with different inputs.\n",
    "def filter_integer(**kwargs):\n",
    "    return {k:v for k,v in kwargs.items() if isinstance(v,int)}\n",
    "\n",
    "print(filter_integer(a=3 , name=\"nikesh\", b=5))"
   ]
  },
  {
   "cell_type": "code",
   "execution_count": 12,
   "id": "971e5e1d-e298-4e14-b4b0-311569133bda",
   "metadata": {},
   "outputs": [
    {
     "name": "stdout",
     "output_type": "stream",
     "text": [
      "[1, 4, 9, 16, 25]\n",
      "[3, 4, 5, 6, 7]\n"
     ]
    }
   ],
   "source": [
    "# Assignment 4: Function with Callback\n",
    "\n",
    "# Define a function that takes another function as a callback and a list of integers.\n",
    "# The function should apply the callback to each integer in the list and return a new list with the results. \n",
    "# Test with different callback functions.\n",
    "def apply_callback(callback, lst):\n",
    "    return [callback(x) for x in lst]\n",
    "\n",
    "print(apply_callback(lambda x:x**2, [1,2,3,4,5]))\n",
    "print(apply_callback(lambda x:x+2, [1,2,3,4,5]))"
   ]
  },
  {
   "cell_type": "code",
   "execution_count": 7,
   "id": "c303e627-e535-4053-98f4-0b6c07dbecad",
   "metadata": {},
   "outputs": [
    {
     "name": "stdout",
     "output_type": "stream",
     "text": [
      "4\n"
     ]
    }
   ],
   "source": [
    "# Assignment 5: Function that Returns a Function\n",
    "\n",
    "# Define a function that returns another function. The returned function should take an integer and return its square.\n",
    "# Test the returned function with different inputs.\n",
    "def square_number():\n",
    "    return lambda x:x**2\n",
    "\n",
    "square = square_number()\n",
    "print(square(2))"
   ]
  },
  {
   "cell_type": "code",
   "execution_count": 13,
   "id": "eab10ec9-376e-460b-9f19-4f1ab51000cb",
   "metadata": {},
   "outputs": [
    {
     "name": "stdout",
     "output_type": "stream",
     "text": [
      "[4, 16, 36, 64, 100]\n"
     ]
    }
   ],
   "source": [
    "# Assignment 7: Higher-Order Function for Filtering and Mapping\n",
    "\n",
    "# Define a higher-order function that takes two functions, a filter function and a map function, along with a list of integers. \n",
    "# The higher-order function should first filter the integers using the filter function and \n",
    "# then apply the map function to the filtered integers. Test with different filter and map functions.\n",
    "def filter_and_map(filter_func, map_func,lst):\n",
    "    return [map_func(num) for num in lst if filter_func(num)]\n",
    "\n",
    "print(filter_and_map(lambda x:x%2==0, lambda x:x**2,[1,2,3,4,5,6,7,8,9,10]))"
   ]
  },
  {
   "cell_type": "code",
   "execution_count": 21,
   "id": "e60eb6a4-418e-4e24-8e0b-68e7685f6f7b",
   "metadata": {},
   "outputs": [
    {
     "name": "stdout",
     "output_type": "stream",
     "text": [
      "11\n",
      "27\n"
     ]
    }
   ],
   "source": [
    "# Assignment 8: Function Composition\n",
    "\n",
    "# Define a function that composes two functions, f and g, such that the result is f(g(x)). Test with different functions f and g.\n",
    "def composite_func(f,g):\n",
    "    return lambda x:f(g(x))\n",
    "\n",
    "f = lambda x:x+5\n",
    "g = lambda x:2*x\n",
    "h = composite_func(f,g)\n",
    "  \n",
    "print(h(3))  # 11\n",
    "print(h(11)) #27"
   ]
  },
  {
   "cell_type": "code",
   "execution_count": 23,
   "id": "18921ab3-34a2-455b-93a6-f2ece27eb6b7",
   "metadata": {},
   "outputs": [
    {
     "name": "stdout",
     "output_type": "stream",
     "text": [
      "6\n",
      "10\n"
     ]
    }
   ],
   "source": [
    "# Assignment 9: Partial Function Application\n",
    "\n",
    "# Use the functools.partial function to create a new function that multiplies its input by 2. Test the new function with different inputs.\n",
    "from functools import partial\n",
    "\n",
    "multiply_by_2 = partial(lambda x, y: x * y, 2)\n",
    "\n",
    "# Test\n",
    "print(multiply_by_2(3))  # 6\n",
    "print(multiply_by_2(5))  # 10\n"
   ]
  },
  {
   "cell_type": "code",
   "execution_count": 25,
   "id": "b1eba8c9-cd71-4abe-9aa1-d8ea3d099d31",
   "metadata": {},
   "outputs": [
    {
     "name": "stdout",
     "output_type": "stream",
     "text": [
      "3.0\n",
      "None\n"
     ]
    }
   ],
   "source": [
    "# Assignment 10: Function with Error Handling\n",
    "\n",
    "# Define a function that takes a list of integers and returns their average. \n",
    "# The function should handle any errors that occur (e.g., empty list) and return None in such cases. Test with different inputs.\n",
    "def average(lst):\n",
    "    try:\n",
    "        return sum(lst) / len(lst)\n",
    "    except ZeroDivisionError:\n",
    "        return None\n",
    "\n",
    "# Test\n",
    "print(average([1, 2, 3, 4, 5]))  # 3.0\n",
    "print(average([]))  # None"
   ]
  },
  {
   "cell_type": "code",
   "execution_count": 36,
   "id": "21a27bd7-8ebb-4ce7-b45a-58fd6082c495",
   "metadata": {},
   "outputs": [
    {
     "name": "stdout",
     "output_type": "stream",
     "text": [
      "0\n",
      "1\n",
      "1\n",
      "2\n",
      "3\n",
      "5\n",
      "8\n",
      "13\n",
      "21\n",
      "34\n"
     ]
    }
   ],
   "source": [
    "# Assignment 11: Function with Generators\n",
    "\n",
    "# Define a function that generates an infinite sequence of Fibonacci numbers. Test by printing the first 10 numbers in the sequence.\n",
    "def fibonacci_generator():\n",
    "    a, b = 0, 1\n",
    "    while True:\n",
    "        yield a\n",
    "        a, b = b, a + b\n",
    "\n",
    "# Test\n",
    "fib_gen = fibonacci_generator()\n",
    "for _ in range(10):\n",
    "    print(next(fib_gen))"
   ]
  },
  {
   "cell_type": "code",
   "execution_count": 38,
   "id": "1623e73c-7c3c-4104-af25-d8d49c73308f",
   "metadata": {},
   "outputs": [
    {
     "name": "stdout",
     "output_type": "stream",
     "text": [
      "([1, 3], ['a', 'b', 'c'], [2.5, 4.0])\n"
     ]
    }
   ],
   "source": [
    "# Assignment 14: Function with Multiple Return Types\n",
    "\n",
    "# Define a function that takes a list of mixed data types (integers, strings, and floats) \n",
    "# and returns three lists: one containing all the integers, one containing all the strings, and one containing all the floats. Test with different inputs.\n",
    "def separate_types(lst):\n",
    "    ints, strs, floats = [], [], []\n",
    "    for item in lst:\n",
    "        if isinstance(item, int):\n",
    "            ints.append(item)\n",
    "        elif isinstance(item, str):\n",
    "            strs.append(item)\n",
    "        elif isinstance(item, float):\n",
    "            floats.append(item)\n",
    "    return ints, strs, floats\n",
    "\n",
    "# Test\n",
    "print(separate_types([1, 'a', 2.5, 3, 'b', 4.0, 'c']))  # ([1, 3], ['a', 'b', 'c'], [2.5, 4.0])\n"
   ]
  },
  {
   "cell_type": "code",
   "execution_count": null,
   "id": "eb9d511c-a035-4123-ba28-ff31f2485f37",
   "metadata": {},
   "outputs": [],
   "source": []
  },
  {
   "cell_type": "code",
   "execution_count": null,
   "id": "118ec82f-b2d7-4431-9a1a-ca1d64dc284d",
   "metadata": {},
   "outputs": [],
   "source": []
  }
 ],
 "metadata": {
  "kernelspec": {
   "display_name": "Python [conda env:base] *",
   "language": "python",
   "name": "conda-base-py"
  },
  "language_info": {
   "codemirror_mode": {
    "name": "ipython",
    "version": 3
   },
   "file_extension": ".py",
   "mimetype": "text/x-python",
   "name": "python",
   "nbconvert_exporter": "python",
   "pygments_lexer": "ipython3",
   "version": "3.12.2"
  }
 },
 "nbformat": 4,
 "nbformat_minor": 5
}
