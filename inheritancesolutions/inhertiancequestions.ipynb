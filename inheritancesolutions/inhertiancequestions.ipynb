{
 "cells": [
  {
   "cell_type": "markdown",
   "id": "7ccd677e",
   "metadata": {},
   "source": [
    "# Module: Inheritance Assignments\n",
    "## Lesson: Single and Multiple Inheritance\n",
    "### Assignment 1: Single Inheritance Basic\n",
    "\n",
    "Create a base class named `Animal` with attributes `name` and `species`. Create a derived class named `Dog` that inherits from `Animal` and adds an attribute `breed`. Create an object of the `Dog` class and print its attributes.\n",
    "\n",
    "### Assignment 2: Method Overriding in Single Inheritance\n",
    "\n",
    "In the `Dog` class, override the `__str__` method to return a string representation of the object. Create an object of the class and print it.\n",
    "\n",
    "### Assignment 3: Single Inheritance with Additional Methods\n",
    "\n",
    "In the `Dog` class, add a method named `bark` that prints a barking sound. Create an object of the class and call the method.\n",
    "\n",
    "### Assignment 4: Multiple Inheritance Basic\n",
    "\n",
    "Create a base class named `Walker` with a method `walk` that prints a walking message. Create another base class named `Runner` with a method `run` that prints a running message. Create a derived class named `Athlete` that inherits from both `Walker` and `Runner`. Create an object of the `Athlete` class and call both methods.\n",
    "\n",
    "### Assignment 5: Method Resolution Order (MRO) in Multiple Inheritance\n",
    "\n",
    "In the `Athlete` class, override the `walk` method to print a different message. Create an object of the class and call the `walk` method. Use the `super()` function to call the `walk` method of the `Walker` class.\n",
    "\n",
    "### Assignment 6: Multiple Inheritance with Additional Attributes\n",
    "\n",
    "In the `Athlete` class, add an attribute `training_hours` and a method `train` that prints the training hours. Create an object of the class and call the method.\n",
    "\n",
    "### Assignment 7: Diamond Problem in Multiple Inheritance\n",
    "\n",
    "Create a class named `A` with a method `show` that prints a message. Create two derived classes `B` and `C` that inherit from `A` and override the `show` method. Create a class `D` that inherits from both `B` and `C`. Create an object of the `D` class and call the `show` method. Observe the method resolution order.\n",
    "\n",
    "### Assignment 8: Using `super()` in Single Inheritance\n",
    "\n",
    "Create a base class named `Shape` with an attribute `color`. Create a derived class named `Circle` that inherits from `Shape` and adds an attribute `radius`. Use the `super()` function to initialize the attributes. Create an object of the `Circle` class and print its attributes.\n",
    "\n",
    "### Assignment 9: Using `super()` in Multiple Inheritance\n",
    "\n",
    "Create a class named `Person` with an attribute `name`. Create a class named `Employee` with an attribute `employee_id`. Create a derived class `Manager` that inherits from both `Person` and `Employee`. Use the `super()` function to initialize the attributes. Create an object of the `Manager` class and print its attributes.\n",
    "\n",
    "### Assignment 10: Method Overriding and `super()`\n",
    "\n",
    "Create a class named `Vehicle` with a method `start` that prints a starting message. Create a derived class `Car` that overrides the `start` method to print a different message. Use the `super()` function to call the `start` method of the `Vehicle` class. Create an object of the `Car` class and call the `start` method.\n",
    "\n",
    "### Assignment 11: Multiple Inheritance with Different Methods\n",
    "\n",
    "Create a class named `Flyer` with a method `fly` that prints a flying message. Create a class named `Swimmer` with a method `swim` that prints a swimming message. Create a derived class `Superhero` that inherits from both `Flyer` and `Swimmer`. Create an object of the `Superhero` class and call both methods.\n",
    "\n",
    "### Assignment 12: Complex Multiple Inheritance\n",
    "\n",
    "Create a class named `Base1` with an attribute `a`. Create a class named `Base2` with an attribute `b`. Create a class named `Derived` that inherits from both `Base1` and `Base2` and adds an attribute `c`. Initialize all attributes using the `super()` function. Create an object of the `Derived` class and print its attributes.\n",
    "\n",
    "### Assignment 13: Checking Instance Types with Inheritance\n",
    "\n",
    "Create a base class named `Animal` and a derived class named `Cat`. Create objects of both classes and use the `isinstance` function to check the instance types.\n",
    "\n",
    "### Assignment 14: Polymorphism with Inheritance\n",
    "\n",
    "Create a base class named `Bird` with a method `speak`. Create two derived classes `Parrot` and `Penguin` that override the `speak` method. Create a list of `Bird` objects and call the `speak` method on each object to demonstrate polymorphism.\n",
    "\n",
    "### Assignment 15: Combining Single and Multiple Inheritance\n",
    "\n",
    "Create a base class named `Device` with an attribute `brand`. Create a derived class `Phone` that inherits from `Device` and adds an attribute `model`. Create another base class `Camera` with an attribute `resolution`. Create a derived class `Smartphone` that inherits from both `Phone` and `Camera`. Create an object of the `Smartphone` class and print its attributes."
   ]
  },
  {
   "cell_type": "code",
   "execution_count": 12,
   "id": "c7fe7663",
   "metadata": {},
   "outputs": [
    {
     "name": "stdout",
     "output_type": "stream",
     "text": [
      "Buddy Canine Golden Retriever\n"
     ]
    }
   ],
   "source": [
    "# Assignment 1: Single Inheritance Basic\n",
    "\n",
    "# Create a base class named Animal with attributes name and species. \n",
    "# Create a derived class named Dog that inherits from Animal and adds an attribute breed.\n",
    "# Create an object of the Dog class and print its attributes.\n",
    "class Animal:\n",
    "    def __init__(self,name,species):\n",
    "        self.name = name\n",
    "        self.species = species\n",
    "\n",
    "\n",
    "class Dog(Animal):\n",
    "    def __init__(self,name,species,breed):\n",
    "        super().__init__(name,species)\n",
    "        self.breed = breed\n",
    "\n",
    "dog = Dog('Buddy', 'Canine', 'Golden Retriever')\n",
    "print(dog.name, dog.species, dog.breed)"
   ]
  },
  {
   "cell_type": "code",
   "execution_count": 24,
   "id": "28efc97a-24e2-42c2-8631-4c1e03570290",
   "metadata": {},
   "outputs": [
    {
     "name": "stdout",
     "output_type": "stream",
     "text": [
      "Dog(Name: Buddy, Species: Canine, Breed: Golden Retriever)\n"
     ]
    }
   ],
   "source": [
    "# Assignment 2: Method Overriding in Single Inheritance\n",
    "\n",
    "# In the Dog class, override the __str__ method to return a string representation of the object. \n",
    "# Create an object of the class and print it.\n",
    "class Dog(Animal):\n",
    "    def __init__(self, name, species, breed):\n",
    "        super().__init__(name, species)\n",
    "        self.breed = breed\n",
    "\n",
    "    def __str__(self):\n",
    "        return f\"Dog(Name: {self.name}, Species: {self.species}, Breed: {self.breed})\"\n",
    "        # Dog(Name: Buddy, Species: Canine, Breed: Golden Retriever)  else  <__main__.Dog object at 0x7a31e211abd0>\n",
    "\n",
    "dog = Dog('Buddy', 'Canine', 'Golden Retriever')\n",
    "print(dog)"
   ]
  },
  {
   "cell_type": "code",
   "execution_count": 28,
   "id": "82d03239-38a9-4aae-8069-97188d3cb34b",
   "metadata": {},
   "outputs": [
    {
     "name": "stdout",
     "output_type": "stream",
     "text": [
      "Buddy makes woof sound\n"
     ]
    }
   ],
   "source": [
    "# Assignment 3: Single Inheritance with Additional Methods\n",
    "\n",
    "# In the Dog class, add a method named bark that prints a barking sound. \n",
    "# Create an object of the class and call the method.\n",
    "class Animal:\n",
    "    def __init__(self,name,species):\n",
    "        self.name = name\n",
    "        self.species = species\n",
    "\n",
    "class Dog(Animal):\n",
    "    def __init__(self,name,species,breed):\n",
    "        super().__init__(name,species)\n",
    "        self.breed = breed\n",
    "\n",
    "    def bark(self):\n",
    "        print(f'{self.name} makes woof sound')\n",
    "\n",
    "dog = Dog('Buddy', 'Canine', 'Golden Retriever')\n",
    "dog.bark()"
   ]
  },
  {
   "cell_type": "code",
   "execution_count": 30,
   "id": "6d7b10e8-be24-448b-8247-2a33c06a6f5a",
   "metadata": {},
   "outputs": [
    {
     "name": "stdout",
     "output_type": "stream",
     "text": [
      "Walking Message...\n",
      "Running message...\n"
     ]
    }
   ],
   "source": [
    "# Assignment 4: Multiple Inheritance Basic\n",
    "\n",
    "# Create a base class named Walker with a method walk that prints a walking message.\n",
    "# Create another base class named Runner with a method run that prints a running message.\n",
    "# Create a derived class named Athlete that inherits from both Walker and Runner.\n",
    "# Create an object of the Athlete class and call both methods.\n",
    "\n",
    "# Base Class\n",
    "class Walker:\n",
    "    def walk(self):\n",
    "        print('Walking Message...')\n",
    "\n",
    "# Base Class\n",
    "class Runner:\n",
    "    def run(self):\n",
    "        print('Running message...')\n",
    "\n",
    "# Derived Class\n",
    "class Athlete(Walker,Runner):\n",
    "    pass\n",
    "\n",
    "athlete = Athlete()\n",
    "athlete.walk()\n",
    "athlete.run()"
   ]
  },
  {
   "cell_type": "code",
   "execution_count": 42,
   "id": "1e412721-2f8a-491e-86b1-a3e4994893a4",
   "metadata": {},
   "outputs": [
    {
     "name": "stdout",
     "output_type": "stream",
     "text": [
      "Athlete walking...\n",
      "Walking Message...\n"
     ]
    }
   ],
   "source": [
    "# Assignment 5: Method Resolution Order (MRO) in Multiple Inheritance\n",
    "\n",
    "# In the Athlete class, override the walk method to print a different message. \n",
    "# Create an object of the class and call the walk method. \n",
    "# Use the super() function to call the walk method of the Walker class.\n",
    "\n",
    "class Athlete(Runner,Walker):\n",
    "    def walk(self):\n",
    "        print(\"Athlete walking...\")\n",
    "        super().walk()\n",
    "\n",
    "athlete = Athlete()\n",
    "athlete.walk()"
   ]
  },
  {
   "cell_type": "code",
   "execution_count": 48,
   "id": "b2032ba7-5058-42e0-a9b3-1e38c471f787",
   "metadata": {},
   "outputs": [
    {
     "name": "stdout",
     "output_type": "stream",
     "text": [
      "Training Hours: 5\n"
     ]
    }
   ],
   "source": [
    "# Assignment 6: Multiple Inheritance with Additional Attributes\n",
    "\n",
    "# In the Athlete class, add an attribute training_hours and a method train that prints the training hours.\n",
    "# Create an object of the class and call the method.\n",
    "\n",
    "class Athlete(Runner,Walker):\n",
    "    def __init__(self,training_hours):\n",
    "        self.training_hours = training_hours\n",
    "    \n",
    "    def walk(self):\n",
    "        print(\"Athlete walking...\")\n",
    "        super().walk()\n",
    "\n",
    "    def train(self):\n",
    "        print(f'Training Hours: {self.training_hours}')\n",
    "\n",
    "athlete = Athlete(5)\n",
    "athlete.train()"
   ]
  },
  {
   "cell_type": "code",
   "execution_count": 60,
   "id": "2244659e-c769-4b6d-9310-dc0f17f6afb4",
   "metadata": {},
   "outputs": [
    {
     "name": "stdout",
     "output_type": "stream",
     "text": [
      "Message of Class C\n"
     ]
    }
   ],
   "source": [
    "# Assignment 7: Diamond Problem in Multiple Inheritance\n",
    "\n",
    "# Create a class named A with a method show that prints a message.\n",
    "# Create two derived classes B and C that inherit from A and override the show method.\n",
    "# Create a class D that inherits from both B and C. Create an object of the D class and call the show method. \n",
    "# Observe the method resolution order.\n",
    "\n",
    "class A:\n",
    "    def show(self):\n",
    "        print('Message of Class A')\n",
    "\n",
    "class B(A):\n",
    "    def show(self):\n",
    "        print('Message of Class B')\n",
    "\n",
    "class C(A):\n",
    "    def show(self):\n",
    "        print('Message of Class C')\n",
    "\n",
    "class D(C,B): #in multiple inheritance while calling the function it will call the method of the 1st class in order\n",
    "    pass\n",
    "\n",
    "d = D()\n",
    "d.show()"
   ]
  },
  {
   "cell_type": "code",
   "execution_count": 70,
   "id": "54a1d022-2dfd-464f-ada6-655cc071308e",
   "metadata": {},
   "outputs": [
    {
     "name": "stdout",
     "output_type": "stream",
     "text": [
      "12 Red\n"
     ]
    }
   ],
   "source": [
    "# Assignment 8: Using super() in Single Inheritance\n",
    "\n",
    "# Create a base class named Shape with an attribute color. \n",
    "# Create a derived class named Circle that inherits from Shape and adds an attribute radius.\n",
    "# Use the super() function to initialize the attributes. Create an object of the Circle class and print its attributes.\n",
    "\n",
    "class Shape:\n",
    "    def __init__(self,color):\n",
    "        self.color = color\n",
    "\n",
    "class Circle(Shape):\n",
    "    def __init__(self,color,radius):\n",
    "        super().__init__(color)\n",
    "        self.radius = radius\n",
    "\n",
    "circle = Circle(\"Red\",12)\n",
    "print(circle.radius, circle.color)"
   ]
  },
  {
   "cell_type": "code",
   "execution_count": 80,
   "id": "cf2c2418-5663-4ae5-998f-0dfa592068c6",
   "metadata": {},
   "outputs": [
    {
     "name": "stdout",
     "output_type": "stream",
     "text": [
      "Nikesh 123\n"
     ]
    }
   ],
   "source": [
    "# Assignment 9: Using super() in Multiple Inheritance\n",
    "\n",
    "# Create a class named Person with an attribute name.\n",
    "# Create a class named Employee with an attribute employee_id. \n",
    "# Create a derived class Manager that inherits from both Person and Employee. \n",
    "# Use the super() function to initialize the attributes. Create an object of the Manager class and print its attributes.\n",
    "\n",
    "class Person:\n",
    "    def __init__(self,name):\n",
    "        self.name = name\n",
    "\n",
    "class Employee:\n",
    "    def __init__(self, employee_id):\n",
    "        self.employee_id = employee_id\n",
    "\n",
    "class Manager(Employee,Person): # Order of the Class will determined which Class will be called when super() will be called\n",
    "    def __init__(self,name,employee_id):\n",
    "        super().__init__(employee_id)\n",
    "        Person.__init__(self,name)\n",
    "\n",
    "manager = Manager(\"Nikesh\",123)\n",
    "print(manager.name,manager.employee_id)"
   ]
  },
  {
   "cell_type": "code",
   "execution_count": 82,
   "id": "25025de1-0ca5-4c43-8844-70413899f733",
   "metadata": {},
   "outputs": [
    {
     "name": "stdout",
     "output_type": "stream",
     "text": [
      "Car Starting \n",
      "Starting Vehicle...\n"
     ]
    }
   ],
   "source": [
    "# Assignment 10: Method Overriding and super()\n",
    "\n",
    "# Create a class named Vehicle with a method start that prints a starting message. \n",
    "# Create a derived class Car that overrides the start method to print a different message.\n",
    "# Use the super() function to call the start method of the Vehicle class. Create an object of the Car class and call the start method.\n",
    "\n",
    "class Vehicle:\n",
    "    def start(self):\n",
    "        print('Starting Vehicle...')\n",
    "\n",
    "class Car(Vehicle):\n",
    "    def start(self):\n",
    "        print('Car Starting ')\n",
    "        super().start()\n",
    "\n",
    "car = Car()\n",
    "car.start()"
   ]
  },
  {
   "cell_type": "code",
   "execution_count": 84,
   "id": "1ee46e22-dc23-4d78-8e00-9086ff53a450",
   "metadata": {},
   "outputs": [
    {
     "name": "stdout",
     "output_type": "stream",
     "text": [
      "Flying Message...\n",
      "Swimming Message...\n"
     ]
    }
   ],
   "source": [
    "# Assignment 11: Multiple Inheritance with Different Methods\n",
    "\n",
    "# Create a class named Flyer with a method fly that prints a flying message. \n",
    "# Create a class named Swimmer with a method swim that prints a swimming message. \n",
    "# Create a derived class Superhero that inherits from both Flyer and Swimmer. \n",
    "# Create an object of the Superhero class and call both methods.\n",
    "\n",
    "class Flyer:\n",
    "    def fly(self):\n",
    "        print('Flying Message...')\n",
    "\n",
    "class Swimmer:\n",
    "    def swim(self):\n",
    "        print('Swimming Message...')\n",
    "\n",
    "class Superhero(Flyer,Swimmer):\n",
    "    pass\n",
    "\n",
    "superhero = Superhero()\n",
    "superhero.fly()\n",
    "superhero.swim()"
   ]
  },
  {
   "cell_type": "code",
   "execution_count": 90,
   "id": "85e99d61-bfe0-417f-bff3-ae33e566f08e",
   "metadata": {},
   "outputs": [
    {
     "name": "stdout",
     "output_type": "stream",
     "text": [
      "65 23 54\n"
     ]
    }
   ],
   "source": [
    "# Assignment 12: Complex Multiple Inheritance\n",
    "\n",
    "# Create a class named Base1 with an attribute a. \n",
    "# Create a class named Base2 with an attribute b. \n",
    "# Create a class named Derived that inherits from both Base1 and Base2 and adds an attribute c. \n",
    "# Initialize all attributes using the super() function. Create an object of the Derived class and print its attributes.\n",
    "class A:\n",
    "    def __init__(self,a):\n",
    "        self.a = a\n",
    "\n",
    "class B:\n",
    "    def __init__(self,b):\n",
    "        self.b = b\n",
    "\n",
    "class C(A,B):\n",
    "    def __init__(self,a,b,c):\n",
    "        super().__init__(a)\n",
    "        B.__init__(self,b)\n",
    "        self.c = c\n",
    "\n",
    "c = C(65,23,54)\n",
    "print(c.a,c.b,c.c)\n"
   ]
  },
  {
   "cell_type": "code",
   "execution_count": 94,
   "id": "8b173b7b-b94e-4de0-8785-a55722f5bf84",
   "metadata": {},
   "outputs": [
    {
     "name": "stdout",
     "output_type": "stream",
     "text": [
      "True\n",
      "True\n",
      "True\n",
      "False\n"
     ]
    }
   ],
   "source": [
    "# Assignment 13: Checking Instance Types with Inheritance\n",
    "\n",
    "# Create a base class named Animal and a derived class named Cat.\n",
    "# Create objects of both classes and use the isinstance function to check the instance types.\n",
    "class Animal:\n",
    "    pass\n",
    "\n",
    "class Cat(Animal):\n",
    "    pass\n",
    "\n",
    "animal = Animal()\n",
    "cat = Cat()\n",
    "print(isinstance(animal, Animal))  # True\n",
    "print(isinstance(cat, Animal))  # True\n",
    "print(isinstance(cat, Cat))  # True\n",
    "print(isinstance(animal, Cat))  # False"
   ]
  },
  {
   "cell_type": "code",
   "execution_count": 97,
   "id": "e65bd4fe-a26a-48cb-944f-a6f64b9fb82f",
   "metadata": {},
   "outputs": [
    {
     "name": "stdout",
     "output_type": "stream",
     "text": [
      "Parrot says: Squawk!\n",
      "Penguin says: Honk!\n"
     ]
    }
   ],
   "source": [
    "# Assignment 14: Polymorphism with Inheritance\n",
    "\n",
    "# Create a base class named Bird with a method speak.\n",
    "# Create two derived classes Parrot and Penguin that override the speak method. \n",
    "# Create a list of Bird objects and call the speak method on each object to demonstrate polymorphism.\n",
    "class Bird:\n",
    "    def speak(self):\n",
    "        pass\n",
    "\n",
    "class Parrot(Bird):\n",
    "    def speak(self):\n",
    "        print(\"Parrot says: Squawk!\")\n",
    "\n",
    "class Penguin(Bird):\n",
    "    def speak(self):\n",
    "        print(\"Penguin says: Honk!\")\n",
    "\n",
    "birds = [Parrot(), Penguin()]\n",
    "for bird in birds:\n",
    "    bird.speak()"
   ]
  },
  {
   "cell_type": "code",
   "execution_count": null,
   "id": "d7ca1b46-fa38-4769-9276-740d94b188c5",
   "metadata": {},
   "outputs": [],
   "source": []
  }
 ],
 "metadata": {
  "kernelspec": {
   "display_name": "Python [conda env:base] *",
   "language": "python",
   "name": "conda-base-py"
  },
  "language_info": {
   "codemirror_mode": {
    "name": "ipython",
    "version": 3
   },
   "file_extension": ".py",
   "mimetype": "text/x-python",
   "name": "python",
   "nbconvert_exporter": "python",
   "pygments_lexer": "ipython3",
   "version": "3.12.2"
  }
 },
 "nbformat": 4,
 "nbformat_minor": 5
}
