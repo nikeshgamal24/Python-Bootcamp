{
 "cells": [
  {
   "cell_type": "markdown",
   "id": "d308d90e",
   "metadata": {},
   "source": [
    "# Module 3: Data Structures Assignments\n",
    "## Lesson 3.1: Lists\n",
    "### Assignment 1: Creating and Accessing Lists\n",
    "\n",
    "Create a list of the first 20 positive integers. Print the list.\n",
    "\n",
    "### Assignment 2: Accessing List Elements\n",
    "\n",
    "Print the first, middle, and last elements of the list created in Assignment 1.\n",
    "\n",
    "### Assignment 3: List Slicing\n",
    "\n",
    "Print the first five elements, the last five elements, and the elements from index 5 to 15 of the list created in Assignment 1.\n",
    "\n",
    "### Assignment 4: List Comprehensions\n",
    "\n",
    "Create a new list containing the squares of the first 10 positive integers using a list comprehension. Print the new list.\n",
    "\n",
    "### Assignment 5: Filtering Lists\n",
    "\n",
    "Create a new list containing only the even numbers from the list created in Assignment 1 using a list comprehension. Print the new list.\n",
    "\n",
    "### Assignment 6: List Methods\n",
    "\n",
    "Create a list of random numbers and sort it in ascending and descending order. Remove the duplicates from the list and print the modified list.\n",
    "\n",
    "### Assignment 7: Nested Lists\n",
    "\n",
    "Create a nested list representing a 3x3 matrix and print the matrix. Access and print the element at the second row and third column.\n",
    "\n",
    "### Assignment 8: List of Dictionaries\n",
    "\n",
    "Create a list of dictionaries where each dictionary represents a student with keys 'name' and 'score'. Sort the list of dictionaries by the 'score' in descending order and print the sorted list.\n",
    "\n",
    "### Assignment 9: Matrix Transposition\n",
    "\n",
    "Write a function that takes a 3x3 matrix (nested list) as input and returns its transpose. Print the original and transposed matrices.\n",
    "\n",
    "### Assignment 10: Flattening a Nested List\n",
    "\n",
    "Write a function that takes a nested list and flattens it into a single list. Print the original and flattened lists.\n",
    "\n",
    "### Assignment 11: List Manipulation\n",
    "\n",
    "Create a list of the first 10 positive integers. Remove the elements at indices 2, 4, and 6, and insert the element '99' at index 5. Print the modified list.\n",
    "\n",
    "### Assignment 12: List Zipping\n",
    "\n",
    "Create two lists of the same length. Use the `zip` function to combine these lists into a list of tuples and print the result.\n",
    "\n",
    "### Assignment 13: List Reversal\n",
    "\n",
    "Write a function that takes a list and returns a new list with the elements in reverse order. Print the original and reversed lists.\n",
    "\n",
    "### Assignment 14: List Rotation\n",
    "\n",
    "Write a function that rotates a list by n positions. Print the original and rotated lists.\n",
    "\n",
    "### Assignment 15: List Intersection\n",
    "\n",
    "Write a function that takes two lists and returns a new list containing only the elements that are present in both lists. Print the intersected list."
   ]
  },
  {
   "cell_type": "code",
   "execution_count": 192,
   "id": "8a3973db",
   "metadata": {},
   "outputs": [
    {
     "name": "stdout",
     "output_type": "stream",
     "text": [
      "[1, 2, 3, 4, 5, 6, 7, 8, 9, 10, 11, 12, 13, 14, 15, 16, 17, 18, 19, 20]\n"
     ]
    }
   ],
   "source": [
    "# Assignment 1: Creating and Accessing Lists\n",
    "\n",
    "# Create a list of the first 20 positive integers. Print the list.\n",
    "\n",
    "lst = list(range(1,21))\n",
    "print(lst)"
   ]
  },
  {
   "cell_type": "code",
   "execution_count": 194,
   "id": "3b926525-639d-4cd6-87d5-00107901f22e",
   "metadata": {},
   "outputs": [
    {
     "name": "stdout",
     "output_type": "stream",
     "text": [
      "1\n",
      "11\n",
      "20\n"
     ]
    }
   ],
   "source": [
    "# Assignment 2: Accessing List Elements\n",
    "\n",
    "# Print the first, middle, and last elements of the list created in Assignment 1.\n",
    "first_element = lst[0]\n",
    "middle_element = lst[10]\n",
    "last_element = lst[-1]\n",
    "\n",
    "print(first_element)\n",
    "print(middle_element)\n",
    "print(last_element)"
   ]
  },
  {
   "cell_type": "code",
   "execution_count": 196,
   "id": "92d0af6f-278e-4884-8e70-9ee18ee7998d",
   "metadata": {},
   "outputs": [
    {
     "name": "stdout",
     "output_type": "stream",
     "text": [
      "[1, 2, 3, 4, 5]\n",
      "[20, 19, 18, 17, 16]\n",
      "[5, 6, 7, 8, 9, 10, 11, 12, 13, 14, 15]\n"
     ]
    }
   ],
   "source": [
    "# Assignment 3: List Slicing\n",
    "\n",
    "# Print the first five elements, the last five elements, and the elements from index 5 to 15 of the list created in Assignment 1.\n",
    "first_five_elements = lst[0:5]\n",
    "print(first_five_elements)\n",
    "\n",
    "\n",
    "last_five_elements = lst[-1:-6:-1]\n",
    "print(last_five_elements)\n",
    "\n",
    "slice_elements = lst[4:15]\n",
    "print(slice_elements)"
   ]
  },
  {
   "cell_type": "code",
   "execution_count": 198,
   "id": "6e11b473-1c77-490f-ab55-5850fe551cab",
   "metadata": {},
   "outputs": [
    {
     "name": "stdout",
     "output_type": "stream",
     "text": [
      "[1, 4, 9, 16, 25, 36, 49, 64, 81, 100]\n"
     ]
    }
   ],
   "source": [
    "# Assignment 4: List Comprehensions\n",
    "\n",
    "# Create a new list containing the squares of the first 10 positive integers using a list comprehension. Print the new list.\n",
    "square_numbers  = [num**2 for num in range(1,11)]\n",
    "print(square_numbers)"
   ]
  },
  {
   "cell_type": "code",
   "execution_count": 200,
   "id": "d014cd7f-11aa-4bf2-84e4-408856b28a20",
   "metadata": {},
   "outputs": [
    {
     "name": "stdout",
     "output_type": "stream",
     "text": [
      "[2, 4, 6, 8, 10, 12, 14, 16, 18, 20]\n"
     ]
    }
   ],
   "source": [
    "# Assignment 5: Filtering Lists\n",
    "\n",
    "# Create a new list containing only the even numbers from the list created in Assignment 1 using a list comprehension. Print the new list.\n",
    "even_numbers = [num for num in range(1,21) if num % 2 == 0]\n",
    "print(even_numbers)"
   ]
  },
  {
   "cell_type": "code",
   "execution_count": 202,
   "id": "b687fb71-9856-4988-b0d1-d32bc38624c4",
   "metadata": {},
   "outputs": [
    {
     "name": "stdout",
     "output_type": "stream",
     "text": [
      "[1, 7, 4, 6, 3, 6, 3, 2, 8, 9]\n",
      "[1, 2, 3, 3, 4, 6, 6, 7, 8, 9]\n",
      "[1, 2, 3, 3, 4, 6, 6, 7, 8, 9]\n",
      "[1, 2, 3, 4, 6, 7, 8, 9]\n"
     ]
    }
   ],
   "source": [
    "# Assignment 6: List Methods\n",
    "\n",
    "# Create a list of random numbers and sort it in ascending and descending order. Remove the\n",
    "# duplicates from the list and print the modified list.\n",
    "lst = [1,7,4,6,3,6,3,2,8,9]\n",
    "\n",
    "print(lst)\n",
    "\n",
    "lst.sort()  # sort doesn't return the sorted list instead it will update the original list \n",
    "sorted_list = sorted(lst)  # soreted will have the list as an argument (\"sorted itself is not a method but it is a function\") \n",
    "                           # and will return the sorted list \n",
    "print(lst)\n",
    "print(sorted_list)\n",
    "\n",
    "distinct_lst =list(set(lst))\n",
    "print(distinct_lst)"
   ]
  },
  {
   "cell_type": "code",
   "execution_count": 204,
   "id": "a8688bc0-8731-42c6-839c-6cd4d24d0699",
   "metadata": {},
   "outputs": [
    {
     "name": "stdout",
     "output_type": "stream",
     "text": [
      "[[1, 2, 3], [5, 6, 3], [9, 7, 8]]\n",
      "Print the element at the second row and third column: 3\n"
     ]
    }
   ],
   "source": [
    "# Assignment 7: Nested Lists\n",
    "\n",
    "# Create a nested list representing a 3x3 matrix and print the matrix. Access and print the element at the second row and third column.\n",
    "\n",
    "matrix_A = [[1,2,3],[5,6,3],[9,7,8]]\n",
    "print(matrix_A)\n",
    "\n",
    "# print the element at the second row and third column.\n",
    "print(f\"Print the element at the second row and third column: {matrix_A[1][2]}\")"
   ]
  },
  {
   "cell_type": "code",
   "execution_count": 206,
   "id": "aedb9290-b7f8-4f7f-8a0d-7409b3bd2969",
   "metadata": {},
   "outputs": [],
   "source": [
    "# Assignment 8: List of Dictionaries\n",
    "\n",
    "# Create a list of dictionaries where each dictionary represents a student with keys 'name' and 'score'. \n",
    "# Sort the list of dictionaries by the 'score' in descending order and print the sorted list."
   ]
  },
  {
   "cell_type": "code",
   "execution_count": 208,
   "id": "80fb4535-078a-4cbc-b536-96b6178dbf68",
   "metadata": {},
   "outputs": [
    {
     "name": "stdout",
     "output_type": "stream",
     "text": [
      "Before  Transpose\n",
      "[[1, 2, 3], [5, 6, 3], [9, 7, 8]]\n",
      "After Transpose\n",
      "[[1, 5, 9], [2, 6, 7], [3, 3, 8]]\n"
     ]
    }
   ],
   "source": [
    "# Assignment 9: Matrix Transposition\n",
    "\n",
    "# Write a function that takes a 3x3 matrix (nested list) as input and returns its transpose. Print the original and transposed matrices.\n",
    "matrix_A = [[1,2,3],[5,6,3],[9,7,8]]\n",
    "print(\"Before  Transpose\")\n",
    "print(matrix_A)\n",
    "# transpose_matrix= matrix_A[:][:]\n",
    " \n",
    "# for i in range(len(matrix_A[0])):\n",
    "#     for j in range(len(matrix_A)):\n",
    "#         transpose_matrix[j][i] = matrix_A[i][j]\n",
    "        \n",
    "transpose_matrix = [[matrix_A[j][i] for j in range(len(matrix_A))] for i in range(len(matrix_A[0]))] # List Comprehension\n",
    "\n",
    "print(\"After Transpose\")\n",
    "print(transpose_matrix)"
   ]
  },
  {
   "cell_type": "code",
   "execution_count": 224,
   "id": "6f5d7c8c-71f1-4c01-ae00-c56416531089",
   "metadata": {},
   "outputs": [
    {
     "name": "stdout",
     "output_type": "stream",
     "text": [
      "[1, 2, 3, 4, 5, 6, 7, 8, 9, 10]\n",
      "Element at index 2: 3\n",
      "Element at index 4: 5\n",
      "Element at index 6: 7\n",
      "List after removing the elements at indices 2, 4, 6\n",
      "[1, 2, 4, 6, 8, 9, 10]\n",
      "Inserting the element  99 at indec 5\n",
      "[1, 2, 4, 6, 8, 99, 9, 10]\n"
     ]
    }
   ],
   "source": [
    "# Assignment 11: List Manipulation\n",
    "\n",
    "# Create a list of the first 10 positive integers. Remove the elements at indices 2, 4, and 6, and insert the element '99' at index 5. \n",
    "# Print the modified list.\n",
    "\n",
    "lst = list(range(1,11))\n",
    "print(lst)\n",
    "\n",
    "# Remove the elements at indices 2, 4, and 6\n",
    "element_at_2 = lst[2]\n",
    "element_at_4 = lst[4]\n",
    "element_at_6 = lst[6]\n",
    "print(f'Element at index 2: {element_at_2}')\n",
    "print(f'Element at index 4: {element_at_4}')\n",
    "print(f'Element at index 6: {element_at_6}')\n",
    "\n",
    "print('List after removing the elements at indices 2, 4, 6')\n",
    "lst.remove(element_at_2)\n",
    "lst.remove(element_at_4)\n",
    "lst.remove(element_at_6)\n",
    "print(lst)\n",
    "\n",
    "print('Inserting the element  99 at indec 5')\n",
    "lst.insert(5,99)\n",
    "print(lst)"
   ]
  },
  {
   "cell_type": "code",
   "execution_count": 242,
   "id": "3b8044e4-4ef4-49d5-a03f-c593d773d109",
   "metadata": {},
   "outputs": [
    {
     "name": "stdout",
     "output_type": "stream",
     "text": [
      "List 1: [1, 2, 3, 4, 5]\n",
      "List 2: [11, 12, 13, 14, 15]\n",
      "Zip List: ((1, 11), (2, 12), (3, 13), (4, 14), (5, 15))\n"
     ]
    }
   ],
   "source": [
    "# Assignment 12: List Zipping\n",
    "\n",
    "# Create two lists of the same length. Use the zip function to combine these lists into a list of tuples and print the result.\n",
    "\n",
    "list1 = list((range(1,6)))\n",
    "list2 = list(range(11,16))\n",
    "print(f'List 1: {list1}')\n",
    "print(f'List 2: {list2}')\n",
    "\n",
    "zip_list  = zip(list1, list2)\n",
    "print(f'Zip List: {tuple(zip_list)}')"
   ]
  }
 ],
 "metadata": {
  "kernelspec": {
   "display_name": "Python [conda env:base] *",
   "language": "python",
   "name": "conda-base-py"
  },
  "language_info": {
   "codemirror_mode": {
    "name": "ipython",
    "version": 3
   },
   "file_extension": ".py",
   "mimetype": "text/x-python",
   "name": "python",
   "nbconvert_exporter": "python",
   "pygments_lexer": "ipython3",
   "version": "3.12.2"
  }
 },
 "nbformat": 4,
 "nbformat_minor": 5
}
